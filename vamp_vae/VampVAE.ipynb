{
 "cells": [
  {
   "cell_type": "code",
   "execution_count": 1,
   "metadata": {},
   "outputs": [],
   "source": [
    "import tensorflow as tf\n",
    "import tensorflow_probability as tfp\n",
    "tfd = tfp.distributions\n",
    "\n",
    "import tensorflow_datasets as tfds\n",
    "\n",
    "from architecture import Encoder, Decoder, MFVAE, VampVAE\n",
    "\n",
    "import matplotlib.pyplot as plt\n",
    "\n",
    "from tqdm.notebook import tqdm"
   ]
  },
  {
   "cell_type": "code",
   "execution_count": 2,
   "metadata": {},
   "outputs": [],
   "source": [
    "dataset = tfds.load(name=\"mnist\", split=tfds.Split.TRAIN)\n",
    "dataset = dataset.map(lambda x: tf.cast(x[\"image\"], tf.float32) / 255.0)\n",
    "dataset = dataset.shuffle(5000)\n",
    "dataset = dataset.repeat()\n",
    "dataset = dataset.batch(64)"
   ]
  },
  {
   "cell_type": "code",
   "execution_count": 3,
   "metadata": {},
   "outputs": [],
   "source": [
    "mf_vae = MFVAE(latents=32)\n",
    "vamp_vae = VampVAE(latents=32)"
   ]
  },
  {
   "cell_type": "code",
   "execution_count": null,
   "metadata": {},
   "outputs": [],
   "source": [
    "steps = 3400\n",
    "beta = 0.01\n",
    "learn_rate = 1e-4\n",
    "\n",
    "log_freq = 100\n",
    "\n",
    "optimizer = tf.optimizers.Adam(learn_rate)\n",
    "\n",
    "model = vamp_vae\n",
    "\n",
    "for i, batch in enumerate(tqdm(dataset.take(steps), total=steps)):\n",
    "    \n",
    "    with tf.GradientTape() as tape:\n",
    "        \n",
    "        reconstruction = model(batch)\n",
    "        \n",
    "        nll = -tf.reduce_mean(model.likelihood.log_prob(reconstruction))\n",
    "        # kl = tf.reduce_mean(tfd.kl_divergence(model.posterior, model.prior))\n",
    "        \n",
    "        z = model.posterior.sample()\n",
    "        kl = model.posterior.log_prob(z) - model.prior.log_prob(z)\n",
    "        kl = tf.reduce_mean(kl)\n",
    "        \n",
    "        loss = nll + beta * kl\n",
    "        \n",
    "    gradients = tape.gradient(loss, model.trainable_variables)\n",
    "    optimizer.apply_gradients(zip(gradients, model.trainable_variables))\n",
    "    \n",
    "    if i % log_freq == 0:\n",
    "        print(f\"Iteration {i + 1}, Loss: {loss:.4f}, KL: {kl:.4f}, Log-Lik: {-nll:.4f}\")"
   ]
  },
  {
   "cell_type": "code",
   "execution_count": 4,
   "metadata": {},
   "outputs": [
    {
     "data": {
      "image/png": "[encoded data removed]",
      "text/plain": [
       "<Figure size 432x288 with 1 Axes>"
      ]
     },
     "metadata": {
      "needs_background": "light"
     },
     "output_type": "display_data"
    },
    {
     "data": {
      "image/png": "[encoded data removed]",
      "text/plain": [
       "<Figure size 432x288 with 1 Axes>"
      ]
     },
     "metadata": {
      "needs_background": "light"
     },
     "output_type": "display_data"
    }
   ],
   "source": [
    "for batch in dataset.take(1):\n",
    "    plt.imshow(batch[0, ..., 0])\n",
    "    plt.show()\n",
    "    plt.imshow(vamp_vae(batch)[0, ..., 0])\n",
    "    plt.show()"
   ]
  },
  {
   "cell_type": "markdown",
   "metadata": {},
   "source": [
    "Iteration 601, Loss: 0.9334, KL: 0.5766, Log-Lik: -0.9276\n",
    "Iteration 701, Loss: 0.9347, KL: 0.5941, Log-Lik: -0.9287\n",
    "Iteration 801, Loss: 0.9342, KL: 0.5778, Log-Lik: -0.9284\n",
    "Iteration 901, Loss: 0.9350, KL: 0.5890, Log-Lik: -0.9291\n",
    "Iteration 1001, Loss: 0.9340, KL: 0.5601, Log-Lik: -0.9284\n",
    "Iteration 1101, Loss: 0.9347, KL: 0.5933, Log-Lik: -0.9288\n",
    "Iteration 1201, Loss: 0.9344, KL: 0.5956, Log-Lik: -0.9284\n",
    "Iteration 1301, Loss: 0.9341, KL: 0.5848, Log-Lik: -0.9282\n",
    "Iteration 1401, Loss: 0.9355, KL: 0.6010, Log-Lik: -0.9295\n",
    "Iteration 1501, Loss: 0.9349, KL: 0.6123, Log-Lik: -0.9288\n",
    "Iteration 1601, Loss: 0.9334, KL: 0.5577, Log-Lik: -0.9278\n",
    "Iteration 1701, Loss: 0.9341, KL: 0.5814, Log-Lik: -0.9283\n",
    "Iteration 1801, Loss: 0.9340, KL: 0.5970, Log-Lik: -0.9280\n",
    "Iteration 1901, Loss: 0.9343, KL: 0.6053, Log-Lik: -0.9282\n",
    "Iteration 2001, Loss: 0.9331, KL: 0.5741, Log-Lik: -0.9274\n",
    "Iteration 2101, Loss: 0.9340, KL: 0.5855, Log-Lik: -0.9281\n",
    "Iteration 2201, Loss: 0.9335, KL: 0.5739, Log-Lik: -0.9278\n",
    "Iteration 2301, Loss: 0.9340, KL: 0.5668, Log-Lik: -0.9283\n",
    "Iteration 2401, Loss: 0.9335, KL: 0.5738, Log-Lik: -0.9277\n",
    "Iteration 2501, Loss: 0.9343, KL: 0.6136, Log-Lik: -0.9281"
   ]
  }
 ],
 "metadata": {
  "kernelspec": {
   "display_name": "Python 3",
   "language": "python",
   "name": "python3"
  },
  "language_info": {
   "codemirror_mode": {
    "name": "ipython",
    "version": 3
   },
   "file_extension": ".py",
   "mimetype": "text/x-python",
   "name": "python",
   "nbconvert_exporter": "python",
   "pygments_lexer": "ipython3",
   "version": "3.7.3"
  }
 },
 "nbformat": 4,
 "nbformat_minor": 2
}
