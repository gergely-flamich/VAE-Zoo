{
 "cells": [
  {
   "cell_type": "code",
   "execution_count": 1,
   "metadata": {},
   "outputs": [],
   "source": [
    "import os, json\n",
    "\n",
    "import tensorflow as tf\n",
    "import tensorflow_probability as tfp\n",
    "tfd = tfp.distributions\n",
    "tfk = tf.keras\n",
    "tfl = tf.keras.layers\n",
    "tfs = tf.summary\n",
    "\n",
    "import numpy as np\n",
    "\n",
    "from tqdm import tqdm_notebook as tqdm\n",
    "\n",
    "import matplotlib.pyplot as plt"
   ]
  },
  {
   "cell_type": "code",
   "execution_count": 12,
   "metadata": {},
   "outputs": [],
   "source": [
    "class ManifoldEncoder(tfl.Layer):\n",
    "    \n",
    "    def __init__(self,\n",
    "                 latent_dim=64,\n",
    "                 name=\"manifold_encoder\",\n",
    "                 **kwargs):\n",
    "        \n",
    "        # Initialise superclass\n",
    "        super(ManifoldEncoder, self).__init__(name=name, **kwargs)\n",
    "        \n",
    "        # Set fields\n",
    "        self.latent_dim = latent_dim\n",
    "        \n",
    "        # --------------------------------------------------------------\n",
    "        # Define layers\n",
    "        # --------------------------------------------------------------\n",
    "        \n",
    "        self.layers = [\n",
    "            tfl.Reshape((28, 28, 1), input_shape=(28, 28)),\n",
    "            tfl.Conv2D(filters=64,\n",
    "                       kernel_size=(5, 5),\n",
    "                       strides=2,\n",
    "                       padding=\"same\",\n",
    "                       name=\"encoder_conv1\"),\n",
    "            tf.nn.leaky_relu,\n",
    "            tfl.Conv2D(filters=128,\n",
    "                       kernel_size=(5, 5),\n",
    "                       strides=2,\n",
    "                       padding=\"same\",\n",
    "                       use_bias=False,\n",
    "                       name=\"encoder_conv2\"),\n",
    "            tfl.BatchNormalization(),\n",
    "            tf.nn.leaky_relu,\n",
    "            tfl.Flatten(),\n",
    "            tfl.Dense(units=1024,\n",
    "                      use_bias=False,\n",
    "                      name=\"encoder_linear1\"),\n",
    "            tfl.BatchNormalization(),\n",
    "            tf.nn.leaky_relu\n",
    "        ]\n",
    "        \n",
    "        self.loc_head = tfl.Dense(units=self.latent_dim,\n",
    "                                  name=\"encoder_loc_head\")\n",
    "        self.log_scale_head = tfl.Dense(units=self.latent_dim,\n",
    "                                        name=\"encoder_scale_head\")\n",
    "        \n",
    "    def call(self, inputs, training=True):\n",
    "        \n",
    "        activations = inputs\n",
    "        \n",
    "        for layer in self.layers:\n",
    "            \n",
    "            if isinstance(layer, tfl.BatchNormalization):\n",
    "                activations = layer(activations, training=training)\n",
    "                \n",
    "            else:\n",
    "                activations = layer(activations)\n",
    "            \n",
    "        loc = self.loc_head(activations)\n",
    "        scale = tf.nn.softplus(self.log_scale_head(activations))\n",
    "        \n",
    "        self.posterior = tfd.Normal(loc=loc, scale=scale)\n",
    "        \n",
    "        return self.posterior.sample()\n",
    "    \n",
    "    \n",
    "class ManifoldDecoder(tfl.Layer):\n",
    "    \n",
    "    def __init__(self, \n",
    "                 name=\"manifold_decoder\",\n",
    "                 **kwargs):\n",
    "        \n",
    "        # Initialise superclass\n",
    "        super(ManifoldDecoder, self).__init__(name=name, **kwargs)\n",
    "        \n",
    "        # Hyperparams\n",
    "        self.log_gamma = tf.Variable(0., \"log_gamma\")\n",
    "        \n",
    "        # --------------------------------------------------------------\n",
    "        # Define layers: reverse of a ManifoldEncoder\n",
    "        # --------------------------------------------------------------\n",
    "        self.layers = [\n",
    "            tfl.Dense(units=1024),\n",
    "            tf.nn.leaky_relu,\n",
    "            tfl.Dense(units=7 * 7 * 128,\n",
    "                      use_bias=False),\n",
    "            tfl.BatchNormalization(),\n",
    "            tf.nn.leaky_relu,\n",
    "            tfl.Reshape((7, 7, 128)),\n",
    "            tfl.Conv2DTranspose(filters=64,\n",
    "                                kernel_size=(5, 5),\n",
    "                                strides=2,\n",
    "                                padding=\"same\",\n",
    "                                use_bias=False),\n",
    "            tfl.BatchNormalization(),\n",
    "            tf.nn.leaky_relu,\n",
    "            tfl.Conv2DTranspose(filters=1,\n",
    "                                kernel_size=(5, 5),\n",
    "                                padding=\"same\",\n",
    "                                strides=2)\n",
    "        ]\n",
    "        \n",
    "    def call(self, inputs, training=True):\n",
    "        \n",
    "        activations = inputs\n",
    "        \n",
    "        for layer in self.layers:\n",
    "            \n",
    "            if isinstance(layer, tfl.BatchNormalization):\n",
    "                activations = layer(activations, training=training)\n",
    "                \n",
    "            else:\n",
    "                activations = layer(activations)\n",
    "            \n",
    "        self.likelihood = tfd.Normal(loc=activations,\n",
    "                                     scale=tf.exp(self.log_gamma))\n",
    "        \n",
    "        return tf.nn.sigmoid(activations)\n",
    "    \n",
    "\n",
    "class ManifoldVAE(tfk.Model):\n",
    "    \n",
    "    def __init__(self,\n",
    "                 latent_dim=64,\n",
    "                 name=\"manifold_vae\",\n",
    "                 **kwargs):\n",
    "        \n",
    "        super(ManifoldVAE, self).__init__(name=name,\n",
    "                                          **kwargs)\n",
    "        \n",
    "        # Define stuff\n",
    "        self.latent_dim = latent_dim\n",
    "        self.prior = tfd.Normal(loc=tf.zeros(latent_dim),\n",
    "                                scale=tf.ones(latent_dim))\n",
    "        \n",
    "        # Define blocks\n",
    "        self.encoder = ManifoldEncoder(latent_dim=self.latent_dim)\n",
    "        self.decoder = ManifoldDecoder()\n",
    "        \n",
    "    @property \n",
    "    def posterior(self):\n",
    "        return self.encoder.posterior\n",
    "    \n",
    "    @property\n",
    "    def likelihood(self):\n",
    "        return self.decoder.likelihood\n",
    "    \n",
    "    @property\n",
    "    def log_gamma(self):\n",
    "        return self.decoder.log_gamma\n",
    "    \n",
    "    @property\n",
    "    def kl_divergence(self):\n",
    "        return tfd.kl_divergence(self.posterior, self.prior)\n",
    "    \n",
    "    @property\n",
    "    def log_prob(self):\n",
    "        return tf.reduce_sum(self._log_prob)\n",
    "         \n",
    "    def call(self, inputs, training=True):\n",
    "        \n",
    "        latents = self.encoder(inputs, training=training)\n",
    "        reconstruction = self.decoder(latents, training=training)\n",
    "        \n",
    "        self._log_prob = self.likelihood.log_prob(inputs[..., tf.newaxis])\n",
    "        \n",
    "        return reconstruction"
   ]
  },
  {
   "cell_type": "code",
   "execution_count": 13,
   "metadata": {
    "scrolled": false
   },
   "outputs": [],
   "source": [
    "def mnist_input_fn(data, batch_size=256, shuffle_samples=5000):\n",
    "    dataset = tf.data.Dataset.from_tensor_slices(data)\n",
    "    dataset = dataset.shuffle(shuffle_samples)\n",
    "    dataset = dataset.map(mnist_parse_fn)\n",
    "    dataset = dataset.batch(batch_size)\n",
    "\n",
    "    return dataset\n",
    "\n",
    "\n",
    "def mnist_parse_fn(data):\n",
    "    return tf.cast(data, tf.float32) / 255.\n",
    "\n",
    "\n",
    "optimizers = {\n",
    "    \"sgd\": tfk.optimizers.SGD,\n",
    "    \"adam\": tfk.optimizers.Adam,\n",
    "}"
   ]
  },
  {
   "cell_type": "code",
   "execution_count": 14,
   "metadata": {},
   "outputs": [],
   "source": [
    "MODEL_DIR = \"/tmp/2-stage-vae-v3/\"\n",
    "\n",
    "config = {\n",
    "        \"num_training_examples\": 60000,\n",
    "        \"batch_size\": 250,\n",
    "        \"num_epochs\": 10,\n",
    "        \"num_epochs_stage_2\": 5,\n",
    "        \n",
    "        \"beta1\": 0.1,\n",
    "        \"beta2\": 0.1,\n",
    "        \"warmup\": 10.,\n",
    "        \n",
    "        \"learning_rate\": 1e-3,\n",
    "        \n",
    "        \"optimizer\": \"adam\",\n",
    "        \n",
    "        \"checkpoint_name\": \"_ckpt\",\n",
    "        \"log_freq\": 100,\n",
    "    }"
   ]
  },
  {
   "cell_type": "code",
   "execution_count": 16,
   "metadata": {
    "scrolled": false
   },
   "outputs": [
    {
     "name": "stdout",
     "output_type": "stream",
     "text": [
      "Configuration:\n",
      "{\n",
      "    \"batch_size\": 250,\n",
      "    \"beta1\": 0.1,\n",
      "    \"beta2\": 0.1,\n",
      "    \"checkpoint_name\": \"_ckpt\",\n",
      "    \"learning_rate\": 0.001,\n",
      "    \"log_freq\": 100,\n",
      "    \"num_epochs\": 10,\n",
      "    \"num_epochs_stage_2\": 5,\n",
      "    \"num_training_examples\": 60000,\n",
      "    \"optimizer\": \"adam\",\n",
      "    \"warmup\": 10.0\n",
      "}\n"
     ]
    },
    {
     "data": {
      "application/vnd.jupyter.widget-view+json": {
       "model_id": "689ea482f9a24b339e0e222f5ba31298",
       "version_major": 2,
       "version_minor": 0
      },
      "text/plain": [
       "HBox(children=(IntProgress(value=0, max=241), HTML(value='')))"
      ]
     },
     "metadata": {},
     "output_type": "display_data"
    },
    {
     "name": "stdout",
     "output_type": "stream",
     "text": [
      "\n"
     ]
    },
    {
     "data": {
      "application/vnd.jupyter.widget-view+json": {
       "model_id": "b1061543b1bc435b879c4f8c02f6c4a5",
       "version_major": 2,
       "version_minor": 0
      },
      "text/plain": [
       "HBox(children=(IntProgress(value=0, max=241), HTML(value='')))"
      ]
     },
     "metadata": {},
     "output_type": "display_data"
    },
    {
     "name": "stdout",
     "output_type": "stream",
     "text": [
      "\n"
     ]
    },
    {
     "data": {
      "application/vnd.jupyter.widget-view+json": {
       "model_id": "7b53a095e2a84d6c90173ee20fdcffcd",
       "version_major": 2,
       "version_minor": 0
      },
      "text/plain": [
       "HBox(children=(IntProgress(value=0, max=241), HTML(value='')))"
      ]
     },
     "metadata": {},
     "output_type": "display_data"
    },
    {
     "name": "stdout",
     "output_type": "stream",
     "text": [
      "\n"
     ]
    },
    {
     "data": {
      "application/vnd.jupyter.widget-view+json": {
       "model_id": "70a14d988ed742deb37336d9d28bafb7",
       "version_major": 2,
       "version_minor": 0
      },
      "text/plain": [
       "HBox(children=(IntProgress(value=0, max=241), HTML(value='')))"
      ]
     },
     "metadata": {},
     "output_type": "display_data"
    },
    {
     "name": "stdout",
     "output_type": "stream",
     "text": [
      "\n"
     ]
    },
    {
     "data": {
      "application/vnd.jupyter.widget-view+json": {
       "model_id": "c983907c61784989bf927e2f42d1132e",
       "version_major": 2,
       "version_minor": 0
      },
      "text/plain": [
       "HBox(children=(IntProgress(value=0, max=241), HTML(value='')))"
      ]
     },
     "metadata": {},
     "output_type": "display_data"
    },
    {
     "name": "stdout",
     "output_type": "stream",
     "text": [
      "\n"
     ]
    },
    {
     "data": {
      "application/vnd.jupyter.widget-view+json": {
       "model_id": "1ebd221f1d28495781fce9b8f462d391",
       "version_major": 2,
       "version_minor": 0
      },
      "text/plain": [
       "HBox(children=(IntProgress(value=0, max=241), HTML(value='')))"
      ]
     },
     "metadata": {},
     "output_type": "display_data"
    },
    {
     "name": "stdout",
     "output_type": "stream",
     "text": [
      "\n"
     ]
    },
    {
     "data": {
      "application/vnd.jupyter.widget-view+json": {
       "model_id": "c6af43e1608e4d518325b323311dbbd2",
       "version_major": 2,
       "version_minor": 0
      },
      "text/plain": [
       "HBox(children=(IntProgress(value=0, max=241), HTML(value='')))"
      ]
     },
     "metadata": {},
     "output_type": "display_data"
    },
    {
     "name": "stdout",
     "output_type": "stream",
     "text": [
      "\n"
     ]
    },
    {
     "data": {
      "application/vnd.jupyter.widget-view+json": {
       "model_id": "ab35a4a99a7848d4abd896e10c87ad22",
       "version_major": 2,
       "version_minor": 0
      },
      "text/plain": [
       "HBox(children=(IntProgress(value=0, max=241), HTML(value='')))"
      ]
     },
     "metadata": {},
     "output_type": "display_data"
    },
    {
     "name": "stdout",
     "output_type": "stream",
     "text": [
      "\n"
     ]
    },
    {
     "data": {
      "application/vnd.jupyter.widget-view+json": {
       "model_id": "5fcd98c942f643b59a10f4c887f6c3cf",
       "version_major": 2,
       "version_minor": 0
      },
      "text/plain": [
       "HBox(children=(IntProgress(value=0, max=241), HTML(value='')))"
      ]
     },
     "metadata": {},
     "output_type": "display_data"
    },
    {
     "name": "stdout",
     "output_type": "stream",
     "text": [
      "\n"
     ]
    },
    {
     "data": {
      "application/vnd.jupyter.widget-view+json": {
       "model_id": "572bf22b41fe4cc1a6b106e6f0ae4005",
       "version_major": 2,
       "version_minor": 0
      },
      "text/plain": [
       "HBox(children=(IntProgress(value=0, max=241), HTML(value='')))"
      ]
     },
     "metadata": {},
     "output_type": "display_data"
    },
    {
     "name": "stdout",
     "output_type": "stream",
     "text": [
      "\n",
      "First Stage Training Complete!\n"
     ]
    }
   ],
   "source": [
    "num_batches = config[\"num_training_examples\"] // config[\"batch_size\"] + 1\n",
    "\n",
    "\n",
    "print(\"Configuration:\")\n",
    "print(json.dumps(config, indent=4, sort_keys=True))\n",
    "\n",
    "# ==========================================================================\n",
    "# Load dataset\n",
    "# ==========================================================================\n",
    "\n",
    "((train_data, _),\n",
    " (eval_data, _)) = tf.keras.datasets.mnist.load_data()\n",
    "\n",
    "# ==========================================================================\n",
    "# Create model\n",
    "# ==========================================================================\n",
    "\n",
    "vae = ManifoldVAE(latent_dim=64)\n",
    "\n",
    "optimizer = optimizers[config[\"optimizer\"]](config[\"learning_rate\"])\n",
    "             \n",
    "# ==========================================================================\n",
    "# Train the model\n",
    "# ==========================================================================\n",
    "\n",
    "def train(log_freq=10):\n",
    "    \n",
    "    beta = config[\"beta1\"]\n",
    "\n",
    "    for epoch in range(1, config[\"num_epochs\"] + 1):\n",
    "\n",
    "        dataset = mnist_input_fn(data=train_data,\n",
    "                                batch_size=config[\"batch_size\"])\n",
    "\n",
    "        with tqdm(total=num_batches) as pbar:\n",
    "            for batch in dataset:\n",
    "\n",
    "                with tf.GradientTape() as tape:\n",
    "\n",
    "                    output = vae(batch, training=True)\n",
    "\n",
    "                    kl = vae.kl_divergence\n",
    "                    total_kl = tf.reduce_sum(kl)\n",
    "\n",
    "                    log_prob = vae.log_prob\n",
    "\n",
    "                    warmup_coef = tf.minimum(1., optimizer.iterations.numpy() / (config[\"warmup\"] * num_batches))\n",
    "\n",
    "                    # negative ELBO\n",
    "                    loss = total_kl - beta * warmup_coef * log_prob \n",
    "\n",
    "                    output = tf.cast(output, tf.float32)\n",
    "\n",
    "                gradients = tape.gradient(loss, vae.trainable_variables)\n",
    "                optimizer.apply_gradients(zip(gradients, vae.trainable_variables))\n",
    "                \n",
    "                # Log stuff\n",
    "                if tf.equal(optimizer.iterations % log_freq, 0):\n",
    "                    # Add tensorboard summaries\n",
    "                    tfs.scalar(\"Loss\", loss, step=optimizer.iterations)\n",
    "                    tfs.scalar(\"Total_KL\", total_kl, step=optimizer.iterations)\n",
    "                    tfs.scalar(\"Max_KL\", tf.reduce_max(kl), step=optimizer.iterations)\n",
    "                    tfs.scalar(\"Log-Probability\", log_prob, step=optimizer.iterations)\n",
    "                    tfs.scalar(\"Warmup_Coef\", warmup_coef, step=optimizer.iterations)\n",
    "                    tfs.scalar(\"Gamma-x\", tf.exp(vae.log_gamma), step=optimizer.iterations)\n",
    "                    tfs.image(\"Reconstruction\", output, step=optimizer.iterations)\n",
    "                    \n",
    "\n",
    "                # Update the progress bar\n",
    "                pbar.update(1)\n",
    "                pbar.set_description(\"Epoch {}, ELBO: {:.2f}\".format(epoch, loss))\n",
    "\n",
    "train_summary_writer = tfs.create_file_writer(MODEL_DIR + '/summaries/train')            \n",
    "\n",
    "with train_summary_writer.as_default():\n",
    "    train(log_freq=10)\n",
    "\n",
    "print(\"First Stage Training Complete!\")"
   ]
  },
  {
   "cell_type": "code",
   "execution_count": 41,
   "metadata": {
    "scrolled": false
   },
   "outputs": [
    {
     "data": {
      "image/png": "[encoded data removed]",
      "text/plain": [
       "<Figure size 1224x432 with 2 Axes>"
      ]
     },
     "metadata": {
      "needs_background": "light"
     },
     "output_type": "display_data"
    }
   ],
   "source": [
    "idx = 15\n",
    "\n",
    "im = eval_data[idx:idx + 1]\n",
    "z = vae.encoder(mnist_parse_fn(im), training=False)\n",
    "# z = tf.ones((1, 64))\n",
    "# z = vae.posterior.sample()\n",
    "\n",
    "rec_im = vae.decoder(z, training=False)\n",
    "\n",
    "plt.figure(figsize=(17, 6))\n",
    "plt.subplot(121)\n",
    "plt.imshow(im[0])\n",
    "\n",
    "plt.subplot(122)\n",
    "plt.imshow(tf.squeeze(rec_im))\n",
    "\n",
    "plt.show()"
   ]
  },
  {
   "cell_type": "code",
   "execution_count": null,
   "metadata": {},
   "outputs": [],
   "source": []
  }
 ],
 "metadata": {
  "kernelspec": {
   "display_name": "Python 3",
   "language": "python",
   "name": "python3"
  }
 },
 "nbformat": 4,
 "nbformat_minor": 2
}
