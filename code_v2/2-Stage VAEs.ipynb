{
 "cells": [
  {
   "cell_type": "code",
   "execution_count": 1,
   "metadata": {},
   "outputs": [],
   "source": [
    "import os, json\n",
    "\n",
    "import tensorflow as tf\n",
    "import tensorflow_probability as tfp\n",
    "tfd = tfp.distributions\n",
    "tfk = tf.keras\n",
    "tfl = tf.keras.layers\n",
    "tfs = tf.summary\n",
    "\n",
    "import numpy as np\n",
    "\n",
    "from tqdm import tqdm_notebook as tqdm\n",
    "\n",
    "import matplotlib.pyplot as plt"
   ]
  },
  {
   "cell_type": "code",
   "execution_count": 2,
   "metadata": {},
   "outputs": [],
   "source": [
    "class ManifoldEncoder(tfl.Layer):\n",
    "    \n",
    "    def __init__(self,\n",
    "                 latent_dim=64,\n",
    "                 name=\"manifold_encoder\",\n",
    "                 **kwargs):\n",
    "        \n",
    "        # Initialise superclass\n",
    "        super(ManifoldEncoder, self).__init__(name=name, **kwargs)\n",
    "        \n",
    "        # Set fields\n",
    "        self.latent_dim = latent_dim\n",
    "        \n",
    "        # --------------------------------------------------------------\n",
    "        # Define layers\n",
    "        # --------------------------------------------------------------\n",
    "        \n",
    "        self.layers = [\n",
    "            tfl.Reshape((28, 28, 1), input_shape=(28, 28)),\n",
    "            tfl.Conv2D(filters=64,\n",
    "                       kernel_size=(5, 5),\n",
    "                       strides=2,\n",
    "                       padding=\"same\",\n",
    "                       name=\"encoder_conv1\"),\n",
    "            tf.nn.leaky_relu,\n",
    "            tfl.Conv2D(filters=128,\n",
    "                       kernel_size=(5, 5),\n",
    "                       strides=2,\n",
    "                       padding=\"same\",\n",
    "                       use_bias=False,\n",
    "                       name=\"encoder_conv2\"),\n",
    "            tfl.BatchNormalization(),\n",
    "            tf.nn.leaky_relu,\n",
    "            tfl.Flatten(),\n",
    "            tfl.Dense(units=1024,\n",
    "                      use_bias=False,\n",
    "                      name=\"encoder_linear1\"),\n",
    "            tfl.BatchNormalization(),\n",
    "            tf.nn.leaky_relu\n",
    "        ]\n",
    "        \n",
    "        self.loc_head = tfl.Dense(units=self.latent_dim,\n",
    "                                  name=\"encoder_loc_head\")\n",
    "        self.log_scale_head = tfl.Dense(units=self.latent_dim,\n",
    "                                        name=\"encoder_scale_head\")\n",
    "        \n",
    "    def call(self, inputs, training=True):\n",
    "        \n",
    "        activations = inputs\n",
    "        \n",
    "        for layer in self.layers:\n",
    "            \n",
    "            if isinstance(layer, tfl.BatchNormalization):\n",
    "                activations = layer(activations, training=training)\n",
    "                \n",
    "            else:\n",
    "                activations = layer(activations)\n",
    "            \n",
    "        loc = self.loc_head(activations)\n",
    "        scale = tf.nn.softplus(self.log_scale_head(activations))\n",
    "        \n",
    "        self.posterior = tfd.Normal(loc=loc, scale=scale)\n",
    "        \n",
    "        return self.posterior.sample()\n",
    "    \n",
    "    \n",
    "class ManifoldDecoder(tfl.Layer):\n",
    "    \n",
    "    def __init__(self, \n",
    "                 name=\"manifold_decoder\",\n",
    "                 **kwargs):\n",
    "        \n",
    "        # Initialise superclass\n",
    "        super(ManifoldDecoder, self).__init__(name=name, **kwargs)\n",
    "        \n",
    "        # Hyperparams\n",
    "        self.log_gamma = tf.Variable(0., \"log_gamma\")\n",
    "        \n",
    "        # --------------------------------------------------------------\n",
    "        # Define layers: reverse of a ManifoldEncoder\n",
    "        # --------------------------------------------------------------\n",
    "        self.layers = [\n",
    "            tfl.Dense(units=1024),\n",
    "            tf.nn.leaky_relu,\n",
    "            tfl.Dense(units=7 * 7 * 128,\n",
    "                      use_bias=False),\n",
    "            tfl.BatchNormalization(),\n",
    "            tf.nn.leaky_relu,\n",
    "            tfl.Reshape((7, 7, 128)),\n",
    "            tfl.Conv2DTranspose(filters=64,\n",
    "                                kernel_size=(5, 5),\n",
    "                                strides=2,\n",
    "                                padding=\"same\",\n",
    "                                use_bias=False),\n",
    "            tfl.BatchNormalization(),\n",
    "            tf.nn.leaky_relu,\n",
    "            tfl.Conv2DTranspose(filters=1,\n",
    "                                kernel_size=(5, 5),\n",
    "                                padding=\"same\",\n",
    "                                strides=2)\n",
    "        ]\n",
    "        \n",
    "    def call(self, inputs, training=True):\n",
    "        \n",
    "        activations = inputs\n",
    "        \n",
    "        for layer in self.layers:\n",
    "            \n",
    "            if isinstance(layer, tfl.BatchNormalization):\n",
    "                activations = layer(activations, training=training)\n",
    "                \n",
    "            else:\n",
    "                activations = layer(activations)\n",
    "            \n",
    "            \n",
    "        likelihood_scale = tf.exp(self.log_gamma)\n",
    "        self.likelihood = tfd.Normal(loc=activations,\n",
    "                                     scale=likelihood_scale)\n",
    "        \n",
    "        return tf.nn.sigmoid(activations)\n",
    "    \n",
    "\n",
    "class ManifoldVAE(tfk.Model):\n",
    "    \n",
    "    def __init__(self,\n",
    "                 latent_dim=64,\n",
    "                 name=\"manifold_vae\",\n",
    "                 **kwargs):\n",
    "        \n",
    "        super(ManifoldVAE, self).__init__(name=name,\n",
    "                                          **kwargs)\n",
    "        \n",
    "        # Define stuff\n",
    "        self.latent_dim = latent_dim\n",
    "        self.prior = tfd.Normal(loc=tf.zeros(latent_dim),\n",
    "                                scale=tf.ones(latent_dim))\n",
    "        \n",
    "        # Define blocks\n",
    "        self.encoder = ManifoldEncoder(latent_dim=self.latent_dim)\n",
    "        self.decoder = ManifoldDecoder()\n",
    "        \n",
    "    @property \n",
    "    def posterior(self):\n",
    "        return self.encoder.posterior\n",
    "    \n",
    "    @property\n",
    "    def likelihood(self):\n",
    "        return self.decoder.likelihood\n",
    "    \n",
    "    @property\n",
    "    def log_gamma(self):\n",
    "        return self.decoder.log_gamma\n",
    "    \n",
    "    @property\n",
    "    def kl_divergence(self):\n",
    "        return tfd.kl_divergence(self.posterior, self.prior)\n",
    "    \n",
    "    @property\n",
    "    def log_prob(self):\n",
    "        return tf.reduce_sum(self._log_prob)\n",
    "         \n",
    "    def call(self, inputs, training=True):\n",
    "        \n",
    "        latents = self.encoder(inputs, training=training)\n",
    "        reconstruction = self.decoder(latents, training=training)\n",
    "        \n",
    "        self._log_prob = self.likelihood.log_prob(inputs[..., tf.newaxis])\n",
    "        \n",
    "        return reconstruction\n",
    "    \n",
    "    \n",
    "# ============================================================================\n",
    "# ============================================================================\n",
    "# Second VAE\n",
    "# ============================================================================\n",
    "# ============================================================================\n",
    "\n",
    "class MeasureEncoder(tfl.Layer):\n",
    "    \n",
    "    def __init__(self,\n",
    "                 second_stage_depth=4,\n",
    "                 second_stage_units=1024,\n",
    "                 latent_dim=64,\n",
    "                 name=\"measure_encoder\",\n",
    "                 **kwargs):\n",
    "        \n",
    "        # Initialise superclass\n",
    "        super(MeasureEncoder, self).__init__(name=name, **kwargs)\n",
    "        \n",
    "        # Set fields\n",
    "        self.latent_dim = latent_dim\n",
    "        self.second_stage_depth = second_stage_depth\n",
    "        self.second_stage_units = second_stage_units\n",
    "        \n",
    "        # --------------------------------------------------------------\n",
    "        # Define layers\n",
    "        # --------------------------------------------------------------\n",
    "        \n",
    "        self.layers = [tfl.Dense(units=self.second_stage_units) for i in range(self.second_stage_depth)]\n",
    "        \n",
    "        self.loc_head = tfl.Dense(units=self.latent_dim,\n",
    "                                  name=\"encoder_loc_head\")\n",
    "        self.log_scale_head = tfl.Dense(units=self.latent_dim,\n",
    "                                        name=\"encoder_scale_head\")\n",
    "        \n",
    "    def call(self, inputs):\n",
    "        \n",
    "        activations = inputs\n",
    "        \n",
    "        for layer in self.layers:\n",
    "            \n",
    "            activations = tf.nn.relu(layer(activations))\n",
    "            \n",
    "        # Add residual connection\n",
    "        activations = tf.concat([activations, inputs], axis=-1)\n",
    "            \n",
    "        loc = self.loc_head(activations)\n",
    "        scale = tf.exp(self.log_scale_head(activations))\n",
    "        \n",
    "        self.posterior = tfd.Normal(loc=loc, scale=scale)\n",
    "        \n",
    "        return self.posterior.sample()\n",
    "    \n",
    "    \n",
    "class MeasureDecoder(tfl.Layer):\n",
    "    \n",
    "    def __init__(self, \n",
    "                 latent_dim=64,\n",
    "                 second_stage_units=1024,\n",
    "                 second_stage_depth=4,\n",
    "                 name=\"measure_decoder\",\n",
    "                 **kwargs):\n",
    "        \n",
    "        # Initialise superclass\n",
    "        super(MeasureDecoder, self).__init__(name=name, **kwargs)\n",
    "        \n",
    "        self.latent_dim = latent_dim\n",
    "        self.second_stage_depth = second_stage_depth\n",
    "        self.second_stage_units = second_stage_units\n",
    "        \n",
    "        # Hyperparams\n",
    "        self.log_gamma = tf.Variable(0., \"log_gamma\")\n",
    "        \n",
    "        # --------------------------------------------------------------\n",
    "        # Define layers: reverse of a MeasureEncoder\n",
    "        # --------------------------------------------------------------\n",
    "        self.layers = [tfl.Dense(units=self.second_stage_units) for i in range(self.second_stage_depth - 1)]\n",
    "        self.latent_head = tfl.Dense(units=self.latent_dim)\n",
    "        \n",
    "        \n",
    "    def call(self, inputs):\n",
    "        \n",
    "        activations = inputs\n",
    "        \n",
    "        for layer in self.layers:\n",
    "            \n",
    "            activations = tf.nn.relu(layer(activations))\n",
    "            \n",
    "        # Add residual connection\n",
    "        activations = tf.concat([activations, inputs], axis=-1)\n",
    "        activations = self.latent_head(activations)\n",
    "            \n",
    "        likelihood_scale = tf.exp(self.log_gamma)\n",
    "        self.likelihood = tfd.Normal(loc=activations,\n",
    "                                     scale=likelihood_scale)\n",
    "        \n",
    "        return activations\n",
    "    \n",
    "\n",
    "class MeasureVAE(tfk.Model):\n",
    "    \n",
    "    def __init__(self,\n",
    "                 latent_dim=64,\n",
    "                 second_stage_depth=4,\n",
    "                 name=\"measure_vae\",\n",
    "                 **kwargs):\n",
    "        \n",
    "        super(MeasureVAE, self).__init__(name=name,\n",
    "                                          **kwargs)\n",
    "        \n",
    "        # Define stuff\n",
    "        self.latent_dim = latent_dim\n",
    "        self.prior = tfd.Normal(loc=tf.zeros(latent_dim),\n",
    "                                scale=tf.ones(latent_dim))\n",
    "        \n",
    "        # Define blocks\n",
    "        self.encoder = MeasureEncoder(latent_dim=self.latent_dim, second_stage_depth=second_stage_depth)\n",
    "        self.decoder = MeasureDecoder(second_stage_depth=second_stage_depth)\n",
    "        \n",
    "    @property \n",
    "    def posterior(self):\n",
    "        return self.encoder.posterior\n",
    "    \n",
    "    @property\n",
    "    def likelihood(self):\n",
    "        return self.decoder.likelihood\n",
    "    \n",
    "    @property\n",
    "    def log_gamma(self):\n",
    "        return self.decoder.log_gamma\n",
    "    \n",
    "    @property\n",
    "    def kl_divergence(self):\n",
    "        return tfd.kl_divergence(self.posterior, self.prior)\n",
    "    \n",
    "    @property\n",
    "    def log_prob(self):\n",
    "        return tf.reduce_sum(self._log_prob)\n",
    "         \n",
    "    def call(self, inputs, training=True):\n",
    "        \n",
    "        latents = self.encoder(inputs)\n",
    "        reconstruction = self.decoder(latents)\n",
    "        \n",
    "        self._log_prob = self.likelihood.log_prob(inputs)\n",
    "        \n",
    "        return reconstruction"
   ]
  },
  {
   "cell_type": "code",
   "execution_count": 3,
   "metadata": {
    "scrolled": false
   },
   "outputs": [],
   "source": [
    "def mnist_input_fn(data, batch_size=256, shuffle_samples=5000):\n",
    "    dataset = tf.data.Dataset.from_tensor_slices(data)\n",
    "    dataset = dataset.shuffle(shuffle_samples)\n",
    "    dataset = dataset.map(mnist_parse_fn)\n",
    "    dataset = dataset.batch(batch_size)\n",
    "\n",
    "    return dataset\n",
    "\n",
    "\n",
    "def mnist_parse_fn(data):\n",
    "    return tf.cast(data, tf.float32) / 255.\n",
    "\n",
    "\n",
    "optimizers = {\n",
    "    \"sgd\": tfk.optimizers.SGD,\n",
    "    \"adam\": tfk.optimizers.Adam,\n",
    "}"
   ]
  },
  {
   "cell_type": "code",
   "execution_count": 12,
   "metadata": {},
   "outputs": [],
   "source": [
    "MODEL_DIR = \"/tmp/2-stage-vae-v3/\"\n",
    "\n",
    "config = {\n",
    "        \"num_training_examples\": 60000,\n",
    "        \"batch_size\": 250,\n",
    "        \"num_epochs\": 20,\n",
    "        \"num_epochs_stage_2\": 100,\n",
    "        \n",
    "        \"beta1\": 0.1,\n",
    "        \"beta2\": 1.,\n",
    "        \"warmup\": 10.,\n",
    "        \n",
    "        \"learning_rate\": 1e-3,\n",
    "        \n",
    "        \"optimizer\": \"adam\",\n",
    "        \n",
    "        \"checkpoint_name\": \"_ckpt\",\n",
    "        \"log_freq\": 100,\n",
    "    }"
   ]
  },
  {
   "cell_type": "code",
   "execution_count": 25,
   "metadata": {
    "scrolled": true
   },
   "outputs": [
    {
     "name": "stdout",
     "output_type": "stream",
     "text": [
      "Configuration:\n",
      "{\n",
      "    \"batch_size\": 250,\n",
      "    \"beta1\": 0.1,\n",
      "    \"beta2\": 1.0,\n",
      "    \"checkpoint_name\": \"_ckpt\",\n",
      "    \"learning_rate\": 0.001,\n",
      "    \"log_freq\": 100,\n",
      "    \"num_epochs\": 20,\n",
      "    \"num_epochs_stage_2\": 100,\n",
      "    \"num_training_examples\": 60000,\n",
      "    \"optimizer\": \"adam\",\n",
      "    \"warmup\": 10.0\n",
      "}\n"
     ]
    },
    {
     "name": "stderr",
     "output_type": "stream",
     "text": [
      "W0708 21:16:27.988155 139747660531456 util.py:244] Unresolved object in checkpoint: (root).optimizer.iter\n",
      "W0708 21:16:27.988668 139747660531456 util.py:244] Unresolved object in checkpoint: (root).optimizer.beta_1\n",
      "W0708 21:16:27.990243 139747660531456 util.py:244] Unresolved object in checkpoint: (root).optimizer.beta_2\n",
      "W0708 21:16:27.990781 139747660531456 util.py:244] Unresolved object in checkpoint: (root).optimizer.decay\n",
      "W0708 21:16:27.991265 139747660531456 util.py:244] Unresolved object in checkpoint: (root).optimizer.learning_rate\n",
      "W0708 21:16:27.991772 139747660531456 util.py:252] A checkpoint was restored (e.g. tf.train.Checkpoint.restore or tf.keras.Model.load_weights) but not all checkpointed values were used. See above for specific issues. Use expect_partial() on the load status object, e.g. tf.train.Checkpoint.restore(...).expect_partial(), to silence these warnings, or use assert_consumed() to make the check explicit. See https://www.tensorflow.org/alpha/guide/checkpoints#loading_mechanics for details.\n"
     ]
    },
    {
     "name": "stdout",
     "output_type": "stream",
     "text": [
      "Restored from /tmp/2-stage-vae-v3//manifold_checkpoints/ckpt-96\n",
      "Restored from /tmp/2-stage-vae-v3//measure_checkpoints/ckpt-456\n"
     ]
    },
    {
     "data": {
      "application/vnd.jupyter.widget-view+json": {
       "model_id": "27cbdf24a5d34aa0831bb4d7149dd196",
       "version_major": 2,
       "version_minor": 0
      },
      "text/plain": [
       "HBox(children=(IntProgress(value=0, max=241), HTML(value='')))"
      ]
     },
     "metadata": {},
     "output_type": "display_data"
    },
    {
     "name": "stdout",
     "output_type": "stream",
     "text": [
      "\n"
     ]
    },
    {
     "data": {
      "application/vnd.jupyter.widget-view+json": {
       "model_id": "e3dc3ce937c5401e95ea30681becffbe",
       "version_major": 2,
       "version_minor": 0
      },
      "text/plain": [
       "HBox(children=(IntProgress(value=0, max=241), HTML(value='')))"
      ]
     },
     "metadata": {},
     "output_type": "display_data"
    },
    {
     "name": "stdout",
     "output_type": "stream",
     "text": [
      "\n"
     ]
    },
    {
     "data": {
      "application/vnd.jupyter.widget-view+json": {
       "model_id": "f1186961dc16411da38d7d021e8f4bd3",
       "version_major": 2,
       "version_minor": 0
      },
      "text/plain": [
       "HBox(children=(IntProgress(value=0, max=241), HTML(value='')))"
      ]
     },
     "metadata": {},
     "output_type": "display_data"
    },
    {
     "name": "stdout",
     "output_type": "stream",
     "text": [
      "\n"
     ]
    },
    {
     "data": {
      "application/vnd.jupyter.widget-view+json": {
       "model_id": "fca563feebf64ab09d3370fdffeb41c5",
       "version_major": 2,
       "version_minor": 0
      },
      "text/plain": [
       "HBox(children=(IntProgress(value=0, max=241), HTML(value='')))"
      ]
     },
     "metadata": {},
     "output_type": "display_data"
    },
    {
     "name": "stdout",
     "output_type": "stream",
     "text": [
      "\n"
     ]
    },
    {
     "data": {
      "application/vnd.jupyter.widget-view+json": {
       "model_id": "fc729b2a55f84e539207657db0a3a314",
       "version_major": 2,
       "version_minor": 0
      },
      "text/plain": [
       "HBox(children=(IntProgress(value=0, max=241), HTML(value='')))"
      ]
     },
     "metadata": {},
     "output_type": "display_data"
    },
    {
     "name": "stdout",
     "output_type": "stream",
     "text": [
      "\n"
     ]
    },
    {
     "data": {
      "application/vnd.jupyter.widget-view+json": {
       "model_id": "9066c719d239437586a598804b999871",
       "version_major": 2,
       "version_minor": 0
      },
      "text/plain": [
       "HBox(children=(IntProgress(value=0, max=241), HTML(value='')))"
      ]
     },
     "metadata": {},
     "output_type": "display_data"
    },
    {
     "name": "stdout",
     "output_type": "stream",
     "text": [
      "\n"
     ]
    },
    {
     "data": {
      "application/vnd.jupyter.widget-view+json": {
       "model_id": "d991987ce29b4378b89d556438c94af6",
       "version_major": 2,
       "version_minor": 0
      },
      "text/plain": [
       "HBox(children=(IntProgress(value=0, max=241), HTML(value='')))"
      ]
     },
     "metadata": {},
     "output_type": "display_data"
    },
    {
     "name": "stdout",
     "output_type": "stream",
     "text": [
      "\n"
     ]
    },
    {
     "data": {
      "application/vnd.jupyter.widget-view+json": {
       "model_id": "8c5081ca4d7e4284b166df47d221dab6",
       "version_major": 2,
       "version_minor": 0
      },
      "text/plain": [
       "HBox(children=(IntProgress(value=0, max=241), HTML(value='')))"
      ]
     },
     "metadata": {},
     "output_type": "display_data"
    },
    {
     "name": "stdout",
     "output_type": "stream",
     "text": [
      "\n"
     ]
    },
    {
     "data": {
      "application/vnd.jupyter.widget-view+json": {
       "model_id": "0721fb502f97434c8aabf76dedc0fce9",
       "version_major": 2,
       "version_minor": 0
      },
      "text/plain": [
       "HBox(children=(IntProgress(value=0, max=241), HTML(value='')))"
      ]
     },
     "metadata": {},
     "output_type": "display_data"
    },
    {
     "name": "stdout",
     "output_type": "stream",
     "text": [
      "\n"
     ]
    },
    {
     "data": {
      "application/vnd.jupyter.widget-view+json": {
       "model_id": "82218feab16a403197eb8346ca5255de",
       "version_major": 2,
       "version_minor": 0
      },
      "text/plain": [
       "HBox(children=(IntProgress(value=0, max=241), HTML(value='')))"
      ]
     },
     "metadata": {},
     "output_type": "display_data"
    },
    {
     "name": "stdout",
     "output_type": "stream",
     "text": [
      "\n"
     ]
    },
    {
     "data": {
      "application/vnd.jupyter.widget-view+json": {
       "model_id": "363da0bb89874da6a9c9c4a2730e09e3",
       "version_major": 2,
       "version_minor": 0
      },
      "text/plain": [
       "HBox(children=(IntProgress(value=0, max=241), HTML(value='')))"
      ]
     },
     "metadata": {},
     "output_type": "display_data"
    },
    {
     "name": "stdout",
     "output_type": "stream",
     "text": [
      "\n"
     ]
    },
    {
     "data": {
      "application/vnd.jupyter.widget-view+json": {
       "model_id": "89dcd612af654d9a8b929a2f1328d712",
       "version_major": 2,
       "version_minor": 0
      },
      "text/plain": [
       "HBox(children=(IntProgress(value=0, max=241), HTML(value='')))"
      ]
     },
     "metadata": {},
     "output_type": "display_data"
    },
    {
     "name": "stdout",
     "output_type": "stream",
     "text": [
      "\n"
     ]
    },
    {
     "data": {
      "application/vnd.jupyter.widget-view+json": {
       "model_id": "3d6ad635bdaf43549aa346b33ae371a4",
       "version_major": 2,
       "version_minor": 0
      },
      "text/plain": [
       "HBox(children=(IntProgress(value=0, max=241), HTML(value='')))"
      ]
     },
     "metadata": {},
     "output_type": "display_data"
    },
    {
     "name": "stdout",
     "output_type": "stream",
     "text": [
      "\n"
     ]
    },
    {
     "data": {
      "application/vnd.jupyter.widget-view+json": {
       "model_id": "f7f39d98d2854a71b6e7bc7deb8e81f1",
       "version_major": 2,
       "version_minor": 0
      },
      "text/plain": [
       "HBox(children=(IntProgress(value=0, max=241), HTML(value='')))"
      ]
     },
     "metadata": {},
     "output_type": "display_data"
    },
    {
     "name": "stdout",
     "output_type": "stream",
     "text": [
      "\n"
     ]
    },
    {
     "data": {
      "application/vnd.jupyter.widget-view+json": {
       "model_id": "f8466dc32ac64488b194fa9eab48647b",
       "version_major": 2,
       "version_minor": 0
      },
      "text/plain": [
       "HBox(children=(IntProgress(value=0, max=241), HTML(value='')))"
      ]
     },
     "metadata": {},
     "output_type": "display_data"
    },
    {
     "name": "stdout",
     "output_type": "stream",
     "text": [
      "\n"
     ]
    },
    {
     "data": {
      "application/vnd.jupyter.widget-view+json": {
       "model_id": "33e0c246a49d4631a85873e622d920d7",
       "version_major": 2,
       "version_minor": 0
      },
      "text/plain": [
       "HBox(children=(IntProgress(value=0, max=241), HTML(value='')))"
      ]
     },
     "metadata": {},
     "output_type": "display_data"
    },
    {
     "name": "stdout",
     "output_type": "stream",
     "text": [
      "\n"
     ]
    },
    {
     "data": {
      "application/vnd.jupyter.widget-view+json": {
       "model_id": "3c7b33cf108642d5a2a595ba8aa0f4da",
       "version_major": 2,
       "version_minor": 0
      },
      "text/plain": [
       "HBox(children=(IntProgress(value=0, max=241), HTML(value='')))"
      ]
     },
     "metadata": {},
     "output_type": "display_data"
    },
    {
     "name": "stdout",
     "output_type": "stream",
     "text": [
      "\n"
     ]
    },
    {
     "data": {
      "application/vnd.jupyter.widget-view+json": {
       "model_id": "5f09c708ff1246b58c5038de2d5d0852",
       "version_major": 2,
       "version_minor": 0
      },
      "text/plain": [
       "HBox(children=(IntProgress(value=0, max=241), HTML(value='')))"
      ]
     },
     "metadata": {},
     "output_type": "display_data"
    },
    {
     "name": "stdout",
     "output_type": "stream",
     "text": [
      "\n"
     ]
    },
    {
     "data": {
      "application/vnd.jupyter.widget-view+json": {
       "model_id": "72f4408df8dc4620ad4a6410a0ca3e8a",
       "version_major": 2,
       "version_minor": 0
      },
      "text/plain": [
       "HBox(children=(IntProgress(value=0, max=241), HTML(value='')))"
      ]
     },
     "metadata": {},
     "output_type": "display_data"
    },
    {
     "name": "stdout",
     "output_type": "stream",
     "text": [
      "\n"
     ]
    },
    {
     "data": {
      "application/vnd.jupyter.widget-view+json": {
       "model_id": "b8fa38c89639424e99f3f5da80542609",
       "version_major": 2,
       "version_minor": 0
      },
      "text/plain": [
       "HBox(children=(IntProgress(value=0, max=241), HTML(value='')))"
      ]
     },
     "metadata": {},
     "output_type": "display_data"
    },
    {
     "name": "stdout",
     "output_type": "stream",
     "text": [
      "\n"
     ]
    },
    {
     "data": {
      "application/vnd.jupyter.widget-view+json": {
       "model_id": "7836670729ab48a7bb069ce95c45a151",
       "version_major": 2,
       "version_minor": 0
      },
      "text/plain": [
       "HBox(children=(IntProgress(value=0, max=241), HTML(value='')))"
      ]
     },
     "metadata": {},
     "output_type": "display_data"
    },
    {
     "name": "stdout",
     "output_type": "stream",
     "text": [
      "\n"
     ]
    },
    {
     "data": {
      "application/vnd.jupyter.widget-view+json": {
       "model_id": "0ccf93115c914e29b5dec093ad361c93",
       "version_major": 2,
       "version_minor": 0
      },
      "text/plain": [
       "HBox(children=(IntProgress(value=0, max=241), HTML(value='')))"
      ]
     },
     "metadata": {},
     "output_type": "display_data"
    },
    {
     "name": "stdout",
     "output_type": "stream",
     "text": [
      "\n"
     ]
    },
    {
     "data": {
      "application/vnd.jupyter.widget-view+json": {
       "model_id": "4d219ae5265148cea056fff30747187e",
       "version_major": 2,
       "version_minor": 0
      },
      "text/plain": [
       "HBox(children=(IntProgress(value=0, max=241), HTML(value='')))"
      ]
     },
     "metadata": {},
     "output_type": "display_data"
    },
    {
     "name": "stdout",
     "output_type": "stream",
     "text": [
      "\n"
     ]
    },
    {
     "data": {
      "application/vnd.jupyter.widget-view+json": {
       "model_id": "a0fae173376f48b4a897ed35d426e782",
       "version_major": 2,
       "version_minor": 0
      },
      "text/plain": [
       "HBox(children=(IntProgress(value=0, max=241), HTML(value='')))"
      ]
     },
     "metadata": {},
     "output_type": "display_data"
    },
    {
     "name": "stdout",
     "output_type": "stream",
     "text": [
      "\n"
     ]
    },
    {
     "data": {
      "application/vnd.jupyter.widget-view+json": {
       "model_id": "ebefe67d8ba140f6857840b3b9ae0804",
       "version_major": 2,
       "version_minor": 0
      },
      "text/plain": [
       "HBox(children=(IntProgress(value=0, max=241), HTML(value='')))"
      ]
     },
     "metadata": {},
     "output_type": "display_data"
    },
    {
     "name": "stdout",
     "output_type": "stream",
     "text": [
      "\n"
     ]
    },
    {
     "data": {
      "application/vnd.jupyter.widget-view+json": {
       "model_id": "d84e587336014a48aca2ee99673371d8",
       "version_major": 2,
       "version_minor": 0
      },
      "text/plain": [
       "HBox(children=(IntProgress(value=0, max=241), HTML(value='')))"
      ]
     },
     "metadata": {},
     "output_type": "display_data"
    },
    {
     "name": "stdout",
     "output_type": "stream",
     "text": [
      "\n"
     ]
    },
    {
     "data": {
      "application/vnd.jupyter.widget-view+json": {
       "model_id": "9ff7c46d1ddf4e4e88a863f4581434bd",
       "version_major": 2,
       "version_minor": 0
      },
      "text/plain": [
       "HBox(children=(IntProgress(value=0, max=241), HTML(value='')))"
      ]
     },
     "metadata": {},
     "output_type": "display_data"
    },
    {
     "name": "stdout",
     "output_type": "stream",
     "text": [
      "\n"
     ]
    },
    {
     "data": {
      "application/vnd.jupyter.widget-view+json": {
       "model_id": "e8bc094d42164cabbe39110fb138fd82",
       "version_major": 2,
       "version_minor": 0
      },
      "text/plain": [
       "HBox(children=(IntProgress(value=0, max=241), HTML(value='')))"
      ]
     },
     "metadata": {},
     "output_type": "display_data"
    },
    {
     "name": "stdout",
     "output_type": "stream",
     "text": [
      "\n"
     ]
    },
    {
     "data": {
      "application/vnd.jupyter.widget-view+json": {
       "model_id": "c2f7aa41541149ad8335e9f13978aeaf",
       "version_major": 2,
       "version_minor": 0
      },
      "text/plain": [
       "HBox(children=(IntProgress(value=0, max=241), HTML(value='')))"
      ]
     },
     "metadata": {},
     "output_type": "display_data"
    },
    {
     "name": "stdout",
     "output_type": "stream",
     "text": [
      "\n"
     ]
    },
    {
     "data": {
      "application/vnd.jupyter.widget-view+json": {
       "model_id": "fdbe8017655d4b74b4f74e4d00008904",
       "version_major": 2,
       "version_minor": 0
      },
      "text/plain": [
       "HBox(children=(IntProgress(value=0, max=241), HTML(value='')))"
      ]
     },
     "metadata": {},
     "output_type": "display_data"
    },
    {
     "name": "stdout",
     "output_type": "stream",
     "text": [
      "\n"
     ]
    },
    {
     "data": {
      "application/vnd.jupyter.widget-view+json": {
       "model_id": "c11b2101c2324cd1b2135de5a2516f54",
       "version_major": 2,
       "version_minor": 0
      },
      "text/plain": [
       "HBox(children=(IntProgress(value=0, max=241), HTML(value='')))"
      ]
     },
     "metadata": {},
     "output_type": "display_data"
    },
    {
     "name": "stdout",
     "output_type": "stream",
     "text": [
      "\n"
     ]
    },
    {
     "data": {
      "application/vnd.jupyter.widget-view+json": {
       "model_id": "db419d3ede504df4bc05963a5c5f7c52",
       "version_major": 2,
       "version_minor": 0
      },
      "text/plain": [
       "HBox(children=(IntProgress(value=0, max=241), HTML(value='')))"
      ]
     },
     "metadata": {},
     "output_type": "display_data"
    },
    {
     "name": "stdout",
     "output_type": "stream",
     "text": [
      "\n"
     ]
    },
    {
     "data": {
      "application/vnd.jupyter.widget-view+json": {
       "model_id": "aedf8e842d8243cb8bef85a141eadf4e",
       "version_major": 2,
       "version_minor": 0
      },
      "text/plain": [
       "HBox(children=(IntProgress(value=0, max=241), HTML(value='')))"
      ]
     },
     "metadata": {},
     "output_type": "display_data"
    },
    {
     "name": "stdout",
     "output_type": "stream",
     "text": [
      "\n"
     ]
    },
    {
     "data": {
      "application/vnd.jupyter.widget-view+json": {
       "model_id": "9c0ebcb527eb459898179713a96f4263",
       "version_major": 2,
       "version_minor": 0
      },
      "text/plain": [
       "HBox(children=(IntProgress(value=0, max=241), HTML(value='')))"
      ]
     },
     "metadata": {},
     "output_type": "display_data"
    },
    {
     "name": "stdout",
     "output_type": "stream",
     "text": [
      "\n"
     ]
    },
    {
     "data": {
      "application/vnd.jupyter.widget-view+json": {
       "model_id": "3294497717794af39279ac8da36a27d2",
       "version_major": 2,
       "version_minor": 0
      },
      "text/plain": [
       "HBox(children=(IntProgress(value=0, max=241), HTML(value='')))"
      ]
     },
     "metadata": {},
     "output_type": "display_data"
    },
    {
     "name": "stdout",
     "output_type": "stream",
     "text": [
      "\n"
     ]
    },
    {
     "data": {
      "application/vnd.jupyter.widget-view+json": {
       "model_id": "d704bcc7d8724f53ae106a753d1b98d3",
       "version_major": 2,
       "version_minor": 0
      },
      "text/plain": [
       "HBox(children=(IntProgress(value=0, max=241), HTML(value='')))"
      ]
     },
     "metadata": {},
     "output_type": "display_data"
    },
    {
     "name": "stdout",
     "output_type": "stream",
     "text": [
      "\n"
     ]
    },
    {
     "data": {
      "application/vnd.jupyter.widget-view+json": {
       "model_id": "92c6b8d5180b4775be179080860f9e94",
       "version_major": 2,
       "version_minor": 0
      },
      "text/plain": [
       "HBox(children=(IntProgress(value=0, max=241), HTML(value='')))"
      ]
     },
     "metadata": {},
     "output_type": "display_data"
    },
    {
     "name": "stdout",
     "output_type": "stream",
     "text": [
      "\n"
     ]
    },
    {
     "data": {
      "application/vnd.jupyter.widget-view+json": {
       "model_id": "bce6a32c88ab461b827ba298333130c6",
       "version_major": 2,
       "version_minor": 0
      },
      "text/plain": [
       "HBox(children=(IntProgress(value=0, max=241), HTML(value='')))"
      ]
     },
     "metadata": {},
     "output_type": "display_data"
    },
    {
     "name": "stdout",
     "output_type": "stream",
     "text": [
      "\n"
     ]
    },
    {
     "data": {
      "application/vnd.jupyter.widget-view+json": {
       "model_id": "44ad2c2fef8146b7acf31b8a33a63189",
       "version_major": 2,
       "version_minor": 0
      },
      "text/plain": [
       "HBox(children=(IntProgress(value=0, max=241), HTML(value='')))"
      ]
     },
     "metadata": {},
     "output_type": "display_data"
    },
    {
     "name": "stdout",
     "output_type": "stream",
     "text": [
      "\n"
     ]
    },
    {
     "data": {
      "application/vnd.jupyter.widget-view+json": {
       "model_id": "444e01c71f9a45a28147280b89e9e08e",
       "version_major": 2,
       "version_minor": 0
      },
      "text/plain": [
       "HBox(children=(IntProgress(value=0, max=241), HTML(value='')))"
      ]
     },
     "metadata": {},
     "output_type": "display_data"
    },
    {
     "name": "stdout",
     "output_type": "stream",
     "text": [
      "\n"
     ]
    },
    {
     "data": {
      "application/vnd.jupyter.widget-view+json": {
       "model_id": "669f1c78cce7433a89e838c7b10f8720",
       "version_major": 2,
       "version_minor": 0
      },
      "text/plain": [
       "HBox(children=(IntProgress(value=0, max=241), HTML(value='')))"
      ]
     },
     "metadata": {},
     "output_type": "display_data"
    },
    {
     "name": "stdout",
     "output_type": "stream",
     "text": [
      "\n"
     ]
    },
    {
     "data": {
      "application/vnd.jupyter.widget-view+json": {
       "model_id": "0eaaa4b2fd5243a3b83f552ff81bdacc",
       "version_major": 2,
       "version_minor": 0
      },
      "text/plain": [
       "HBox(children=(IntProgress(value=0, max=241), HTML(value='')))"
      ]
     },
     "metadata": {},
     "output_type": "display_data"
    },
    {
     "name": "stdout",
     "output_type": "stream",
     "text": [
      "\n"
     ]
    },
    {
     "data": {
      "application/vnd.jupyter.widget-view+json": {
       "model_id": "a2844f4ee3454a87a6fe14b6ec7182bb",
       "version_major": 2,
       "version_minor": 0
      },
      "text/plain": [
       "HBox(children=(IntProgress(value=0, max=241), HTML(value='')))"
      ]
     },
     "metadata": {},
     "output_type": "display_data"
    },
    {
     "name": "stdout",
     "output_type": "stream",
     "text": [
      "\n"
     ]
    },
    {
     "data": {
      "application/vnd.jupyter.widget-view+json": {
       "model_id": "5b9b21aa803548908b7f453cbd1ce8f7",
       "version_major": 2,
       "version_minor": 0
      },
      "text/plain": [
       "HBox(children=(IntProgress(value=0, max=241), HTML(value='')))"
      ]
     },
     "metadata": {},
     "output_type": "display_data"
    },
    {
     "name": "stdout",
     "output_type": "stream",
     "text": [
      "\n"
     ]
    },
    {
     "data": {
      "application/vnd.jupyter.widget-view+json": {
       "model_id": "ef1b499d7fb048e4a5623c0c9a21e5c3",
       "version_major": 2,
       "version_minor": 0
      },
      "text/plain": [
       "HBox(children=(IntProgress(value=0, max=241), HTML(value='')))"
      ]
     },
     "metadata": {},
     "output_type": "display_data"
    },
    {
     "name": "stdout",
     "output_type": "stream",
     "text": [
      "\n"
     ]
    },
    {
     "data": {
      "application/vnd.jupyter.widget-view+json": {
       "model_id": "a22105a683c049c88c77427ed3edd02f",
       "version_major": 2,
       "version_minor": 0
      },
      "text/plain": [
       "HBox(children=(IntProgress(value=0, max=241), HTML(value='')))"
      ]
     },
     "metadata": {},
     "output_type": "display_data"
    },
    {
     "name": "stdout",
     "output_type": "stream",
     "text": [
      "\n"
     ]
    },
    {
     "data": {
      "application/vnd.jupyter.widget-view+json": {
       "model_id": "c155f230c98540ff9da2c11682fa9d51",
       "version_major": 2,
       "version_minor": 0
      },
      "text/plain": [
       "HBox(children=(IntProgress(value=0, max=241), HTML(value='')))"
      ]
     },
     "metadata": {},
     "output_type": "display_data"
    },
    {
     "name": "stdout",
     "output_type": "stream",
     "text": [
      "\n"
     ]
    },
    {
     "data": {
      "application/vnd.jupyter.widget-view+json": {
       "model_id": "a4c748e77b4d4c31ab92bb28c76f7915",
       "version_major": 2,
       "version_minor": 0
      },
      "text/plain": [
       "HBox(children=(IntProgress(value=0, max=241), HTML(value='')))"
      ]
     },
     "metadata": {},
     "output_type": "display_data"
    },
    {
     "name": "stdout",
     "output_type": "stream",
     "text": [
      "\n"
     ]
    },
    {
     "data": {
      "application/vnd.jupyter.widget-view+json": {
       "model_id": "3632c7a30c804a6988db9dfd37633967",
       "version_major": 2,
       "version_minor": 0
      },
      "text/plain": [
       "HBox(children=(IntProgress(value=0, max=241), HTML(value='')))"
      ]
     },
     "metadata": {},
     "output_type": "display_data"
    },
    {
     "name": "stdout",
     "output_type": "stream",
     "text": [
      "\n"
     ]
    },
    {
     "data": {
      "application/vnd.jupyter.widget-view+json": {
       "model_id": "c0f32721fc474f3c95055f1496910492",
       "version_major": 2,
       "version_minor": 0
      },
      "text/plain": [
       "HBox(children=(IntProgress(value=0, max=241), HTML(value='')))"
      ]
     },
     "metadata": {},
     "output_type": "display_data"
    },
    {
     "name": "stdout",
     "output_type": "stream",
     "text": [
      "\n"
     ]
    },
    {
     "data": {
      "application/vnd.jupyter.widget-view+json": {
       "model_id": "f8de17a31ded4f99be492cdf561546cc",
       "version_major": 2,
       "version_minor": 0
      },
      "text/plain": [
       "HBox(children=(IntProgress(value=0, max=241), HTML(value='')))"
      ]
     },
     "metadata": {},
     "output_type": "display_data"
    },
    {
     "name": "stdout",
     "output_type": "stream",
     "text": [
      "\n"
     ]
    },
    {
     "data": {
      "application/vnd.jupyter.widget-view+json": {
       "model_id": "ff3755e42556478a9a6f34a20c303508",
       "version_major": 2,
       "version_minor": 0
      },
      "text/plain": [
       "HBox(children=(IntProgress(value=0, max=241), HTML(value='')))"
      ]
     },
     "metadata": {},
     "output_type": "display_data"
    },
    {
     "name": "stdout",
     "output_type": "stream",
     "text": [
      "\n"
     ]
    },
    {
     "data": {
      "application/vnd.jupyter.widget-view+json": {
       "model_id": "86dc5b7ad6e449eeaef406764fa5634c",
       "version_major": 2,
       "version_minor": 0
      },
      "text/plain": [
       "HBox(children=(IntProgress(value=0, max=241), HTML(value='')))"
      ]
     },
     "metadata": {},
     "output_type": "display_data"
    },
    {
     "name": "stdout",
     "output_type": "stream",
     "text": [
      "\n"
     ]
    },
    {
     "data": {
      "application/vnd.jupyter.widget-view+json": {
       "model_id": "fbc2468def5648cab557968d5c0306e3",
       "version_major": 2,
       "version_minor": 0
      },
      "text/plain": [
       "HBox(children=(IntProgress(value=0, max=241), HTML(value='')))"
      ]
     },
     "metadata": {},
     "output_type": "display_data"
    },
    {
     "name": "stdout",
     "output_type": "stream",
     "text": [
      "\n"
     ]
    },
    {
     "data": {
      "application/vnd.jupyter.widget-view+json": {
       "model_id": "9026f32a9fc248a6b493d61cf6402d62",
       "version_major": 2,
       "version_minor": 0
      },
      "text/plain": [
       "HBox(children=(IntProgress(value=0, max=241), HTML(value='')))"
      ]
     },
     "metadata": {},
     "output_type": "display_data"
    },
    {
     "name": "stdout",
     "output_type": "stream",
     "text": [
      "\n"
     ]
    },
    {
     "data": {
      "application/vnd.jupyter.widget-view+json": {
       "model_id": "55a67cc376c1413fb43de83c562f2f32",
       "version_major": 2,
       "version_minor": 0
      },
      "text/plain": [
       "HBox(children=(IntProgress(value=0, max=241), HTML(value='')))"
      ]
     },
     "metadata": {},
     "output_type": "display_data"
    },
    {
     "name": "stdout",
     "output_type": "stream",
     "text": [
      "\n"
     ]
    },
    {
     "data": {
      "application/vnd.jupyter.widget-view+json": {
       "model_id": "e883126ce755461492d3454f267b7d65",
       "version_major": 2,
       "version_minor": 0
      },
      "text/plain": [
       "HBox(children=(IntProgress(value=0, max=241), HTML(value='')))"
      ]
     },
     "metadata": {},
     "output_type": "display_data"
    },
    {
     "name": "stdout",
     "output_type": "stream",
     "text": [
      "\n"
     ]
    },
    {
     "data": {
      "application/vnd.jupyter.widget-view+json": {
       "model_id": "64c625e17a984201b814d7ec51100bc9",
       "version_major": 2,
       "version_minor": 0
      },
      "text/plain": [
       "HBox(children=(IntProgress(value=0, max=241), HTML(value='')))"
      ]
     },
     "metadata": {},
     "output_type": "display_data"
    },
    {
     "name": "stdout",
     "output_type": "stream",
     "text": [
      "\n"
     ]
    },
    {
     "data": {
      "application/vnd.jupyter.widget-view+json": {
       "model_id": "e4455108b1ca4778886bb5538f6401f1",
       "version_major": 2,
       "version_minor": 0
      },
      "text/plain": [
       "HBox(children=(IntProgress(value=0, max=241), HTML(value='')))"
      ]
     },
     "metadata": {},
     "output_type": "display_data"
    },
    {
     "name": "stdout",
     "output_type": "stream",
     "text": [
      "\n"
     ]
    },
    {
     "data": {
      "application/vnd.jupyter.widget-view+json": {
       "model_id": "30f5d56234e448728ef388a650018cf9",
       "version_major": 2,
       "version_minor": 0
      },
      "text/plain": [
       "HBox(children=(IntProgress(value=0, max=241), HTML(value='')))"
      ]
     },
     "metadata": {},
     "output_type": "display_data"
    },
    {
     "name": "stdout",
     "output_type": "stream",
     "text": [
      "\n"
     ]
    },
    {
     "data": {
      "application/vnd.jupyter.widget-view+json": {
       "model_id": "716e98fc0bb745b780b15b5241a56b7e",
       "version_major": 2,
       "version_minor": 0
      },
      "text/plain": [
       "HBox(children=(IntProgress(value=0, max=241), HTML(value='')))"
      ]
     },
     "metadata": {},
     "output_type": "display_data"
    },
    {
     "name": "stdout",
     "output_type": "stream",
     "text": [
      "\n"
     ]
    },
    {
     "data": {
      "application/vnd.jupyter.widget-view+json": {
       "model_id": "5bb8958412044e76a045f2967cfe34d6",
       "version_major": 2,
       "version_minor": 0
      },
      "text/plain": [
       "HBox(children=(IntProgress(value=0, max=241), HTML(value='')))"
      ]
     },
     "metadata": {},
     "output_type": "display_data"
    },
    {
     "name": "stdout",
     "output_type": "stream",
     "text": [
      "\n"
     ]
    },
    {
     "data": {
      "application/vnd.jupyter.widget-view+json": {
       "model_id": "95db221d04844b1bba0d2e0e11591d48",
       "version_major": 2,
       "version_minor": 0
      },
      "text/plain": [
       "HBox(children=(IntProgress(value=0, max=241), HTML(value='')))"
      ]
     },
     "metadata": {},
     "output_type": "display_data"
    },
    {
     "name": "stdout",
     "output_type": "stream",
     "text": [
      "\n"
     ]
    },
    {
     "data": {
      "application/vnd.jupyter.widget-view+json": {
       "model_id": "b7fb9c9ef4c84921b1e02ec8f2b287f3",
       "version_major": 2,
       "version_minor": 0
      },
      "text/plain": [
       "HBox(children=(IntProgress(value=0, max=241), HTML(value='')))"
      ]
     },
     "metadata": {},
     "output_type": "display_data"
    },
    {
     "name": "stdout",
     "output_type": "stream",
     "text": [
      "\n"
     ]
    },
    {
     "data": {
      "application/vnd.jupyter.widget-view+json": {
       "model_id": "443afe605b5349e49fef9cc5742ad8ac",
       "version_major": 2,
       "version_minor": 0
      },
      "text/plain": [
       "HBox(children=(IntProgress(value=0, max=241), HTML(value='')))"
      ]
     },
     "metadata": {},
     "output_type": "display_data"
    },
    {
     "name": "stdout",
     "output_type": "stream",
     "text": [
      "\n"
     ]
    },
    {
     "data": {
      "application/vnd.jupyter.widget-view+json": {
       "model_id": "c6eb63636b6e43b4a185188a6811da37",
       "version_major": 2,
       "version_minor": 0
      },
      "text/plain": [
       "HBox(children=(IntProgress(value=0, max=241), HTML(value='')))"
      ]
     },
     "metadata": {},
     "output_type": "display_data"
    },
    {
     "name": "stdout",
     "output_type": "stream",
     "text": [
      "\n"
     ]
    },
    {
     "data": {
      "application/vnd.jupyter.widget-view+json": {
       "model_id": "5d83b46f08f24f77b99e2e15e4e48f35",
       "version_major": 2,
       "version_minor": 0
      },
      "text/plain": [
       "HBox(children=(IntProgress(value=0, max=241), HTML(value='')))"
      ]
     },
     "metadata": {},
     "output_type": "display_data"
    },
    {
     "name": "stdout",
     "output_type": "stream",
     "text": [
      "\n"
     ]
    },
    {
     "data": {
      "application/vnd.jupyter.widget-view+json": {
       "model_id": "5c5454fd912c43c6af071261c94683d4",
       "version_major": 2,
       "version_minor": 0
      },
      "text/plain": [
       "HBox(children=(IntProgress(value=0, max=241), HTML(value='')))"
      ]
     },
     "metadata": {},
     "output_type": "display_data"
    },
    {
     "name": "stdout",
     "output_type": "stream",
     "text": [
      "\n"
     ]
    },
    {
     "data": {
      "application/vnd.jupyter.widget-view+json": {
       "model_id": "996b462e202d4afa8a6512aa8cf85e15",
       "version_major": 2,
       "version_minor": 0
      },
      "text/plain": [
       "HBox(children=(IntProgress(value=0, max=241), HTML(value='')))"
      ]
     },
     "metadata": {},
     "output_type": "display_data"
    },
    {
     "name": "stdout",
     "output_type": "stream",
     "text": [
      "\n"
     ]
    },
    {
     "data": {
      "application/vnd.jupyter.widget-view+json": {
       "model_id": "7800ad2eb22a4a78a19afd7f938f3318",
       "version_major": 2,
       "version_minor": 0
      },
      "text/plain": [
       "HBox(children=(IntProgress(value=0, max=241), HTML(value='')))"
      ]
     },
     "metadata": {},
     "output_type": "display_data"
    },
    {
     "name": "stdout",
     "output_type": "stream",
     "text": [
      "\n"
     ]
    },
    {
     "data": {
      "application/vnd.jupyter.widget-view+json": {
       "model_id": "8c2a9b8cfa05421180db6fb70c2b285e",
       "version_major": 2,
       "version_minor": 0
      },
      "text/plain": [
       "HBox(children=(IntProgress(value=0, max=241), HTML(value='')))"
      ]
     },
     "metadata": {},
     "output_type": "display_data"
    },
    {
     "name": "stdout",
     "output_type": "stream",
     "text": [
      "\n"
     ]
    },
    {
     "data": {
      "application/vnd.jupyter.widget-view+json": {
       "model_id": "a725b202ac364d46aec6148f86c2b033",
       "version_major": 2,
       "version_minor": 0
      },
      "text/plain": [
       "HBox(children=(IntProgress(value=0, max=241), HTML(value='')))"
      ]
     },
     "metadata": {},
     "output_type": "display_data"
    },
    {
     "name": "stdout",
     "output_type": "stream",
     "text": [
      "\n"
     ]
    },
    {
     "data": {
      "application/vnd.jupyter.widget-view+json": {
       "model_id": "b17cc732d79141129189a40164e0f15a",
       "version_major": 2,
       "version_minor": 0
      },
      "text/plain": [
       "HBox(children=(IntProgress(value=0, max=241), HTML(value='')))"
      ]
     },
     "metadata": {},
     "output_type": "display_data"
    },
    {
     "name": "stdout",
     "output_type": "stream",
     "text": [
      "\n"
     ]
    },
    {
     "data": {
      "application/vnd.jupyter.widget-view+json": {
       "model_id": "d491d94697a1489a82c2f794a80cac27",
       "version_major": 2,
       "version_minor": 0
      },
      "text/plain": [
       "HBox(children=(IntProgress(value=0, max=241), HTML(value='')))"
      ]
     },
     "metadata": {},
     "output_type": "display_data"
    },
    {
     "name": "stdout",
     "output_type": "stream",
     "text": [
      "\n"
     ]
    },
    {
     "data": {
      "application/vnd.jupyter.widget-view+json": {
       "model_id": "7cc0856b9f2c48aaae3cf862157da8b3",
       "version_major": 2,
       "version_minor": 0
      },
      "text/plain": [
       "HBox(children=(IntProgress(value=0, max=241), HTML(value='')))"
      ]
     },
     "metadata": {},
     "output_type": "display_data"
    },
    {
     "name": "stdout",
     "output_type": "stream",
     "text": [
      "\n"
     ]
    },
    {
     "data": {
      "application/vnd.jupyter.widget-view+json": {
       "model_id": "546d91cb8a1546c0b7b963b0bd87989d",
       "version_major": 2,
       "version_minor": 0
      },
      "text/plain": [
       "HBox(children=(IntProgress(value=0, max=241), HTML(value='')))"
      ]
     },
     "metadata": {},
     "output_type": "display_data"
    },
    {
     "name": "stdout",
     "output_type": "stream",
     "text": [
      "\n"
     ]
    },
    {
     "data": {
      "application/vnd.jupyter.widget-view+json": {
       "model_id": "f3a588032fcb4a4c8576a8b701ee3b15",
       "version_major": 2,
       "version_minor": 0
      },
      "text/plain": [
       "HBox(children=(IntProgress(value=0, max=241), HTML(value='')))"
      ]
     },
     "metadata": {},
     "output_type": "display_data"
    },
    {
     "name": "stdout",
     "output_type": "stream",
     "text": [
      "\n"
     ]
    },
    {
     "data": {
      "application/vnd.jupyter.widget-view+json": {
       "model_id": "0319aa029cd7434b8b555ff8c787b309",
       "version_major": 2,
       "version_minor": 0
      },
      "text/plain": [
       "HBox(children=(IntProgress(value=0, max=241), HTML(value='')))"
      ]
     },
     "metadata": {},
     "output_type": "display_data"
    },
    {
     "name": "stdout",
     "output_type": "stream",
     "text": [
      "\n"
     ]
    },
    {
     "data": {
      "application/vnd.jupyter.widget-view+json": {
       "model_id": "1c898fd3b6b2414bb83a5b472ffab992",
       "version_major": 2,
       "version_minor": 0
      },
      "text/plain": [
       "HBox(children=(IntProgress(value=0, max=241), HTML(value='')))"
      ]
     },
     "metadata": {},
     "output_type": "display_data"
    },
    {
     "name": "stdout",
     "output_type": "stream",
     "text": [
      "\n"
     ]
    },
    {
     "data": {
      "application/vnd.jupyter.widget-view+json": {
       "model_id": "4d1ef6947446408c998bb79854c81d7b",
       "version_major": 2,
       "version_minor": 0
      },
      "text/plain": [
       "HBox(children=(IntProgress(value=0, max=241), HTML(value='')))"
      ]
     },
     "metadata": {},
     "output_type": "display_data"
    },
    {
     "name": "stdout",
     "output_type": "stream",
     "text": [
      "\n"
     ]
    },
    {
     "data": {
      "application/vnd.jupyter.widget-view+json": {
       "model_id": "6f15cd01944b4b7d82715052b7b2e14d",
       "version_major": 2,
       "version_minor": 0
      },
      "text/plain": [
       "HBox(children=(IntProgress(value=0, max=241), HTML(value='')))"
      ]
     },
     "metadata": {},
     "output_type": "display_data"
    },
    {
     "name": "stdout",
     "output_type": "stream",
     "text": [
      "\n"
     ]
    },
    {
     "data": {
      "application/vnd.jupyter.widget-view+json": {
       "model_id": "892cc5019bee44f0ac592fae26ec4c80",
       "version_major": 2,
       "version_minor": 0
      },
      "text/plain": [
       "HBox(children=(IntProgress(value=0, max=241), HTML(value='')))"
      ]
     },
     "metadata": {},
     "output_type": "display_data"
    },
    {
     "name": "stdout",
     "output_type": "stream",
     "text": [
      "\n"
     ]
    },
    {
     "data": {
      "application/vnd.jupyter.widget-view+json": {
       "model_id": "4b80988fe9c04d5a962c15825a0e608a",
       "version_major": 2,
       "version_minor": 0
      },
      "text/plain": [
       "HBox(children=(IntProgress(value=0, max=241), HTML(value='')))"
      ]
     },
     "metadata": {},
     "output_type": "display_data"
    },
    {
     "name": "stdout",
     "output_type": "stream",
     "text": [
      "\n"
     ]
    },
    {
     "data": {
      "application/vnd.jupyter.widget-view+json": {
       "model_id": "73152a9e5d4c44ee892c93e344d7846f",
       "version_major": 2,
       "version_minor": 0
      },
      "text/plain": [
       "HBox(children=(IntProgress(value=0, max=241), HTML(value='')))"
      ]
     },
     "metadata": {},
     "output_type": "display_data"
    },
    {
     "name": "stdout",
     "output_type": "stream",
     "text": [
      "\n"
     ]
    },
    {
     "data": {
      "application/vnd.jupyter.widget-view+json": {
       "model_id": "74b6e93708294cbb8f01926346388ad4",
       "version_major": 2,
       "version_minor": 0
      },
      "text/plain": [
       "HBox(children=(IntProgress(value=0, max=241), HTML(value='')))"
      ]
     },
     "metadata": {},
     "output_type": "display_data"
    },
    {
     "name": "stdout",
     "output_type": "stream",
     "text": [
      "\n"
     ]
    },
    {
     "data": {
      "application/vnd.jupyter.widget-view+json": {
       "model_id": "92c2d900c1a94787a62b524c379a3d9c",
       "version_major": 2,
       "version_minor": 0
      },
      "text/plain": [
       "HBox(children=(IntProgress(value=0, max=241), HTML(value='')))"
      ]
     },
     "metadata": {},
     "output_type": "display_data"
    },
    {
     "name": "stdout",
     "output_type": "stream",
     "text": [
      "\n"
     ]
    },
    {
     "data": {
      "application/vnd.jupyter.widget-view+json": {
       "model_id": "ba96a52a6ec84e6c88927dab75cc1123",
       "version_major": 2,
       "version_minor": 0
      },
      "text/plain": [
       "HBox(children=(IntProgress(value=0, max=241), HTML(value='')))"
      ]
     },
     "metadata": {},
     "output_type": "display_data"
    },
    {
     "name": "stdout",
     "output_type": "stream",
     "text": [
      "\n"
     ]
    },
    {
     "data": {
      "application/vnd.jupyter.widget-view+json": {
       "model_id": "ba8067b356e146e9b0b00b86be5655de",
       "version_major": 2,
       "version_minor": 0
      },
      "text/plain": [
       "HBox(children=(IntProgress(value=0, max=241), HTML(value='')))"
      ]
     },
     "metadata": {},
     "output_type": "display_data"
    },
    {
     "name": "stdout",
     "output_type": "stream",
     "text": [
      "\n"
     ]
    },
    {
     "data": {
      "application/vnd.jupyter.widget-view+json": {
       "model_id": "2ab1c583f46b4566b4015f0367a6e8dd",
       "version_major": 2,
       "version_minor": 0
      },
      "text/plain": [
       "HBox(children=(IntProgress(value=0, max=241), HTML(value='')))"
      ]
     },
     "metadata": {},
     "output_type": "display_data"
    },
    {
     "name": "stdout",
     "output_type": "stream",
     "text": [
      "\n"
     ]
    },
    {
     "data": {
      "application/vnd.jupyter.widget-view+json": {
       "model_id": "81aa4a3a6f1549c19a5c5f718ce118b7",
       "version_major": 2,
       "version_minor": 0
      },
      "text/plain": [
       "HBox(children=(IntProgress(value=0, max=241), HTML(value='')))"
      ]
     },
     "metadata": {},
     "output_type": "display_data"
    },
    {
     "name": "stdout",
     "output_type": "stream",
     "text": [
      "\n"
     ]
    },
    {
     "data": {
      "application/vnd.jupyter.widget-view+json": {
       "model_id": "1460350202454cfabb37d8df83a9b743",
       "version_major": 2,
       "version_minor": 0
      },
      "text/plain": [
       "HBox(children=(IntProgress(value=0, max=241), HTML(value='')))"
      ]
     },
     "metadata": {},
     "output_type": "display_data"
    },
    {
     "name": "stdout",
     "output_type": "stream",
     "text": [
      "\n"
     ]
    },
    {
     "data": {
      "application/vnd.jupyter.widget-view+json": {
       "model_id": "2ad1ac5531594b38bf96e4d9a4e92bdd",
       "version_major": 2,
       "version_minor": 0
      },
      "text/plain": [
       "HBox(children=(IntProgress(value=0, max=241), HTML(value='')))"
      ]
     },
     "metadata": {},
     "output_type": "display_data"
    },
    {
     "name": "stdout",
     "output_type": "stream",
     "text": [
      "\n"
     ]
    },
    {
     "data": {
      "application/vnd.jupyter.widget-view+json": {
       "model_id": "0daf167f3d7e460cbf1dce8ede7fbd82",
       "version_major": 2,
       "version_minor": 0
      },
      "text/plain": [
       "HBox(children=(IntProgress(value=0, max=241), HTML(value='')))"
      ]
     },
     "metadata": {},
     "output_type": "display_data"
    },
    {
     "name": "stdout",
     "output_type": "stream",
     "text": [
      "\n"
     ]
    },
    {
     "data": {
      "application/vnd.jupyter.widget-view+json": {
       "model_id": "7eb916f0e9074c9eace76282eece69c8",
       "version_major": 2,
       "version_minor": 0
      },
      "text/plain": [
       "HBox(children=(IntProgress(value=0, max=241), HTML(value='')))"
      ]
     },
     "metadata": {},
     "output_type": "display_data"
    },
    {
     "name": "stdout",
     "output_type": "stream",
     "text": [
      "\n"
     ]
    },
    {
     "data": {
      "application/vnd.jupyter.widget-view+json": {
       "model_id": "96a80070109e4c7588dc7410344e5e35",
       "version_major": 2,
       "version_minor": 0
      },
      "text/plain": [
       "HBox(children=(IntProgress(value=0, max=241), HTML(value='')))"
      ]
     },
     "metadata": {},
     "output_type": "display_data"
    },
    {
     "name": "stdout",
     "output_type": "stream",
     "text": [
      "\n"
     ]
    },
    {
     "data": {
      "application/vnd.jupyter.widget-view+json": {
       "model_id": "08e828cf3e10413e8a79256c3447b2dc",
       "version_major": 2,
       "version_minor": 0
      },
      "text/plain": [
       "HBox(children=(IntProgress(value=0, max=241), HTML(value='')))"
      ]
     },
     "metadata": {},
     "output_type": "display_data"
    },
    {
     "name": "stdout",
     "output_type": "stream",
     "text": [
      "\n"
     ]
    },
    {
     "data": {
      "application/vnd.jupyter.widget-view+json": {
       "model_id": "ddafc9d8fa854f71b74f2f4449553d41",
       "version_major": 2,
       "version_minor": 0
      },
      "text/plain": [
       "HBox(children=(IntProgress(value=0, max=241), HTML(value='')))"
      ]
     },
     "metadata": {},
     "output_type": "display_data"
    },
    {
     "name": "stdout",
     "output_type": "stream",
     "text": [
      "\n"
     ]
    },
    {
     "data": {
      "application/vnd.jupyter.widget-view+json": {
       "model_id": "9f7c0c0b17d64f4b9966473afe87a81e",
       "version_major": 2,
       "version_minor": 0
      },
      "text/plain": [
       "HBox(children=(IntProgress(value=0, max=241), HTML(value='')))"
      ]
     },
     "metadata": {},
     "output_type": "display_data"
    },
    {
     "name": "stdout",
     "output_type": "stream",
     "text": [
      "\n"
     ]
    },
    {
     "data": {
      "application/vnd.jupyter.widget-view+json": {
       "model_id": "89966f55e03b4bd5beb6e06847c42bdb",
       "version_major": 2,
       "version_minor": 0
      },
      "text/plain": [
       "HBox(children=(IntProgress(value=0, max=241), HTML(value='')))"
      ]
     },
     "metadata": {},
     "output_type": "display_data"
    },
    {
     "name": "stdout",
     "output_type": "stream",
     "text": [
      "\n"
     ]
    },
    {
     "data": {
      "application/vnd.jupyter.widget-view+json": {
       "model_id": "5f8ced987a4a4703a0a4b2d34f75c053",
       "version_major": 2,
       "version_minor": 0
      },
      "text/plain": [
       "HBox(children=(IntProgress(value=0, max=241), HTML(value='')))"
      ]
     },
     "metadata": {},
     "output_type": "display_data"
    },
    {
     "name": "stdout",
     "output_type": "stream",
     "text": [
      "\n",
      "Second Stage Training Complete!\n"
     ]
    }
   ],
   "source": [
    "num_batches = config[\"num_training_examples\"] // config[\"batch_size\"] + 1\n",
    "\n",
    "\n",
    "print(\"Configuration:\")\n",
    "print(json.dumps(config, indent=4, sort_keys=True))\n",
    "\n",
    "# ==========================================================================\n",
    "# Load dataset\n",
    "# ==========================================================================\n",
    "\n",
    "((train_data, _),\n",
    " (eval_data, _)) = tf.keras.datasets.mnist.load_data()\n",
    "\n",
    "# ==========================================================================\n",
    "# Create model\n",
    "# ==========================================================================\n",
    "\n",
    "manifold_vae = ManifoldVAE(latent_dim=64)\n",
    "measure_vae = MeasureVAE(latent_dim=64)\n",
    "\n",
    "manifold_optimizer = optimizers[config[\"optimizer\"]](config[\"learning_rate\"])\n",
    "measure_optimizer = optimizers[config[\"optimizer\"]](config[\"learning_rate\"])\n",
    "\n",
    "# ==========================================================================\n",
    "# Checkpoints\n",
    "# ==========================================================================\n",
    "\n",
    "# Create checkpoint and its manager\n",
    "manifold_ckpt = tf.train.Checkpoint(step=tf.Variable(1), optimizer=manifold_optimizer, net=manifold_vae)\n",
    "manifold_manager = tf.train.CheckpointManager(manifold_ckpt, MODEL_DIR + \"/manifold_checkpoints\", max_to_keep=3)\n",
    "\n",
    "measure_ckpt = tf.train.Checkpoint(step=tf.Variable(1), optimizer=measure_optimizer, net=measure_vae)\n",
    "measure_manager = tf.train.CheckpointManager(measure_ckpt, MODEL_DIR + \"/measure_checkpoints\", max_to_keep=3)\n",
    "\n",
    "# Attempt to restore model\n",
    "manifold_ckpt.restore(manifold_manager.latest_checkpoint)\n",
    "if manifold_manager.latest_checkpoint:\n",
    "    print(\"Restored from {}\".format(manifold_manager.latest_checkpoint))\n",
    "else:\n",
    "    print(\"Initializing manifold VAE from scratch.\")\n",
    "    \n",
    "# Attempt to restore model\n",
    "measure_ckpt.restore(measure_manager.latest_checkpoint)\n",
    "if measure_manager.latest_checkpoint:\n",
    "    print(\"Restored from {}\".format(measure_manager.latest_checkpoint))\n",
    "else:\n",
    "    print(\"Initializing Measure VAE from scratch.\")\n",
    "# ==========================================================================\n",
    "# Train the model\n",
    "# ==========================================================================\n",
    "\n",
    "def train_first_stage(log_freq=10, save_freq=50):\n",
    "    \n",
    "    beta = config[\"beta1\"]\n",
    "\n",
    "    for epoch in range(1, config[\"num_epochs\"] + 1):\n",
    "\n",
    "        dataset = mnist_input_fn(data=train_data,\n",
    "                                batch_size=config[\"batch_size\"])\n",
    "\n",
    "        with tqdm(total=num_batches) as pbar:\n",
    "            for batch in dataset:\n",
    "                \n",
    "                # Increment checkpoints step\n",
    "                manifold_ckpt.step.assign_add(1)\n",
    "\n",
    "                with tf.GradientTape() as tape:\n",
    "\n",
    "                    output = manifold_vae(batch, training=True)\n",
    "\n",
    "                    kl = manifold_vae.kl_divergence\n",
    "                    total_kl = tf.reduce_sum(kl)\n",
    "\n",
    "                    log_prob = manifold_vae.log_prob\n",
    "\n",
    "                    warmup_coef = 1. #tf.minimum(1., manifold_optimizer.iterations.numpy() / (config[\"warmup\"] * num_batches))\n",
    "\n",
    "                    # negative ELBO\n",
    "                    loss = total_kl - beta * warmup_coef * log_prob \n",
    "\n",
    "                    output = tf.cast(output, tf.float32)\n",
    "\n",
    "                gradients = tape.gradient(loss, manifold_vae.trainable_variables)\n",
    "                manifold_optimizer.apply_gradients(zip(gradients, manifold_vae.trainable_variables))\n",
    "                \n",
    "                # Log stuff\n",
    "                if tf.equal(manifold_optimizer.iterations % log_freq, 0):\n",
    "                    # Add tensorboard summaries\n",
    "                    tfs.scalar(\"Loss\", loss, step=manifold_optimizer.iterations)\n",
    "                    tfs.scalar(\"Total_KL\", total_kl, step=manifold_optimizer.iterations)\n",
    "                    tfs.scalar(\"Max_KL\", tf.reduce_max(kl), step=manifold_optimizer.iterations)\n",
    "                    tfs.scalar(\"Log-Probability\", log_prob, step=manifold_optimizer.iterations)\n",
    "                    tfs.scalar(\"Warmup_Coef\", warmup_coef, step=manifold_optimizer.iterations)\n",
    "                    tfs.scalar(\"Gamma-x\", tf.exp(manifold_vae.log_gamma), step=manifold_optimizer.iterations)\n",
    "                    tfs.image(\"Reconstruction\", output, step=manifold_optimizer.iterations)\n",
    "                    \n",
    "                if tf.equal(manifold_ckpt.step % save_freq, 0):\n",
    "                    manifold_manager.save()\n",
    "\n",
    "                # Update the progress bar\n",
    "                pbar.update(1)\n",
    "                pbar.set_description(\"Epoch {}, ELBO: {:.2f}\".format(epoch, loss))\n",
    "\n",
    "    print(\"First Stage Training Complete!\")\n",
    "                \n",
    "def train_second_stage(log_freq=10, save_freq=50):\n",
    "    \n",
    "    beta = config[\"beta2\"]\n",
    "\n",
    "    for epoch in range(1, config[\"num_epochs_stage_2\"] + 1):\n",
    "\n",
    "        dataset = mnist_input_fn(data=train_data,\n",
    "                                batch_size=config[\"batch_size\"])\n",
    "\n",
    "        with tqdm(total=num_batches) as pbar:\n",
    "            for batch in dataset:\n",
    "                \n",
    "                # Increment checkpoints step\n",
    "                measure_ckpt.step.assign_add(1)\n",
    "\n",
    "                with tf.GradientTape() as tape:\n",
    "                    \n",
    "                    latents = manifold_vae.encoder(batch, training=False)\n",
    "\n",
    "                    output = measure_vae(latents)\n",
    "\n",
    "                    kl = measure_vae.kl_divergence\n",
    "                    total_kl = tf.reduce_sum(kl)\n",
    "\n",
    "                    log_prob = measure_vae.log_prob\n",
    "\n",
    "                    warmup_coef = 1. #tf.minimum(1., measure_optimizer.iterations.numpy() / (config[\"warmup\"] * num_batches))\n",
    "\n",
    "                    # negative ELBO\n",
    "                    loss = total_kl - beta * warmup_coef * log_prob \n",
    "\n",
    "                    output = tf.cast(output, tf.float32)\n",
    "\n",
    "                gradients = tape.gradient(loss, measure_vae.trainable_variables)\n",
    "                measure_optimizer.apply_gradients(zip(gradients, measure_vae.trainable_variables))\n",
    "                \n",
    "                # Log stuff\n",
    "                if tf.equal(measure_optimizer.iterations % log_freq, 0):\n",
    "                    # Add tensorboard summaries\n",
    "                    tfs.scalar(\"2-Loss\", loss, step=measure_optimizer.iterations)\n",
    "                    tfs.scalar(\"2-Total_KL\", total_kl, step=measure_optimizer.iterations)\n",
    "                    tfs.scalar(\"2-Max_KL\", tf.reduce_max(kl), step=measure_optimizer.iterations)\n",
    "                    tfs.scalar(\"2-Log-Probability\", log_prob, step=measure_optimizer.iterations)\n",
    "                    tfs.scalar(\"2-Warmup_Coef\", warmup_coef, step=measure_optimizer.iterations)\n",
    "                    tfs.scalar(\"2-Gamma-z\", tf.exp(measure_vae.log_gamma), step=measure_optimizer.iterations)\n",
    "                    \n",
    "                if tf.equal(measure_ckpt.step % save_freq, 0):\n",
    "                    measure_manager.save()\n",
    "\n",
    "                # Update the progress bar\n",
    "                pbar.update(1)\n",
    "                pbar.set_description(\"Epoch {}, ELBO: {:.2f}\".format(epoch, loss))\n",
    "                \n",
    "    print(\"Second Stage Training Complete!\")\n",
    "                \n",
    "train_summary_writer = tfs.create_file_writer(MODEL_DIR + '/summaries/train')            \n",
    "\n",
    "with train_summary_writer.as_default():\n",
    "    #train_first_stage(log_freq=10)\n",
    "    \n",
    "    manifold_vae.trainable = False\n",
    "    \n",
    "    train_second_stage(log_freq=10)"
   ]
  },
  {
   "cell_type": "code",
   "execution_count": 41,
   "metadata": {
    "scrolled": false
   },
   "outputs": [
    {
     "data": {
      "image/png": "[encoded data removed]",
      "text/plain": [
       "<Figure size 1224x432 with 2 Axes>"
      ]
     },
     "metadata": {
      "needs_background": "light"
     },
     "output_type": "display_data"
    }
   ],
   "source": [
    "idx = 1000\n",
    "\n",
    "im = eval_data[idx:idx + 1]\n",
    "z_1 = manifold_vae.encoder(mnist_parse_fn(im), training=False)\n",
    "z_2 = measure_vae.encoder(z_1)\n",
    "#z_2 = measure_vae.posterior.sample()\n",
    "# z = tf.ones((1, 64))\n",
    "#z = vae.posterior.sample()\n",
    "z = measure_vae.decoder(z_2)\n",
    "#print(z_2)\n",
    "#print(z_1)\n",
    "#print(z)\n",
    "rec_im = manifold_vae.decoder(z, training=False)\n",
    "\n",
    "plt.figure(figsize=(17, 6))\n",
    "plt.subplot(121)\n",
    "plt.imshow(im[0])\n",
    "\n",
    "plt.subplot(122)\n",
    "plt.imshow(tf.squeeze(rec_im))\n",
    "\n",
    "plt.show()"
   ]
  },
  {
   "cell_type": "code",
   "execution_count": 15,
   "metadata": {},
   "outputs": [
    {
     "data": {
      "text/plain": [
       "<tf.Tensor: id=4771998, shape=(), dtype=float32, numpy=0.10662687>"
      ]
     },
     "execution_count": 15,
     "metadata": {},
     "output_type": "execute_result"
    }
   ],
   "source": []
  },
  {
   "cell_type": "code",
   "execution_count": null,
   "metadata": {},
   "outputs": [],
   "source": []
  }
 ],
 "metadata": {
  "kernelspec": {
   "display_name": "Python 3",
   "language": "python",
   "name": "python3"
  },
  "language_info": {
   "codemirror_mode": {
    "name": "ipython",
    "version": 3
   },
   "file_extension": ".py",
   "mimetype": "text/x-python",
   "name": "python",
   "nbconvert_exporter": "python",
   "pygments_lexer": "ipython3",
   "version": "3.5.2"
  }
 },
 "nbformat": 4,
 "nbformat_minor": 2
}
