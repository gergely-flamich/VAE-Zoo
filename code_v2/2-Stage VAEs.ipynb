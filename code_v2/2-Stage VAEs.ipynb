{
 "cells": [
  {
   "cell_type": "code",
   "execution_count": 1,
   "metadata": {},
   "outputs": [],
   "source": [
    "import os, json\n",
    "\n",
    "import tensorflow as tf\n",
    "import tensorflow_probability as tfp\n",
    "tfd = tfp.distributions\n",
    "tfk = tf.keras\n",
    "tfl = tf.keras.layers\n",
    "tfs = tf.summary\n",
    "\n",
    "import numpy as np\n",
    "\n",
    "from tqdm import tqdm_notebook as tqdm\n",
    "\n",
    "import matplotlib.pyplot as plt"
   ]
  },
  {
   "cell_type": "code",
   "execution_count": 68,
   "metadata": {},
   "outputs": [],
   "source": []
  },
  {
   "cell_type": "code",
   "execution_count": 69,
   "metadata": {},
   "outputs": [
    {
     "name": "stdout",
     "output_type": "stream",
     "text": [
      "<tensorflow.python.keras.layers.core.Dense object at 0x7fee300e75f8>\n",
      "<function leaky_relu at 0x7fee4d8db378>\n"
     ]
    },
    {
     "data": {
      "text/plain": [
       "<tf.Tensor: id=55595509, shape=(1, 1024), dtype=float32, numpy=\n",
       "array([[0.5433307 , 0.4894673 , 0.577988  , ..., 0.49115962, 0.48334962,\n",
       "        0.5623177 ]], dtype=float32)>"
      ]
     },
     "execution_count": 69,
     "metadata": {},
     "output_type": "execute_result"
    }
   ],
   "source": [
    "mm = ManifoldVAE()\n",
    "mm.decoder(tf.random.uniform((1, 64)), training=True)"
   ]
  },
  {
   "cell_type": "code",
   "execution_count": 54,
   "metadata": {
    "scrolled": false
   },
   "outputs": [],
   "source": []
  },
  {
   "cell_type": "code",
   "execution_count": 7,
   "metadata": {
    "scrolled": false
   },
   "outputs": [
    {
     "data": {
      "image/png": "[encoded data removed]",
      "text/plain": [
       "<Figure size 1224x432 with 2 Axes>"
      ]
     },
     "metadata": {
      "needs_background": "light"
     },
     "output_type": "display_data"
    }
   ],
   "source": [
    "idx = 1000\n",
    "\n",
    "im = eval_data[idx:idx + 1]\n",
    "z_1 = manifold_vae.encoder(mnist_parse_fn(im), training=False)\n",
    "#z_2 = measure_vae.encoder(z_1)\n",
    "#z_2 = measure_vae.posterior.sample()\n",
    "# z = tf.ones((1, 64))\n",
    "#z = vae.posterior.sample()\n",
    "#z = measure_vae.decoder(z_2)\n",
    "#print(z_2)\n",
    "#print(z_1)\n",
    "#print(z)\n",
    "rec_im = manifold_vae.decoder(z_1, training=False)\n",
    "\n",
    "plt.figure(figsize=(17, 6))\n",
    "plt.subplot(121)\n",
    "plt.imshow(im[0])\n",
    "\n",
    "plt.subplot(122)\n",
    "plt.imshow(tf.squeeze(rec_im))\n",
    "\n",
    "plt.show()"
   ]
  },
  {
   "cell_type": "code",
   "execution_count": null,
   "metadata": {},
   "outputs": [],
   "source": []
  }
 ],
 "metadata": {
  "kernelspec": {
   "display_name": "Python 3",
   "language": "python",
   "name": "python3"
  },
  "language_info": {
   "codemirror_mode": {
    "name": "ipython",
    "version": 3
   },
   "file_extension": ".py",
   "mimetype": "text/x-python",
   "name": "python",
   "nbconvert_exporter": "python",
   "pygments_lexer": "ipython3",
   "version": "3.5.2"
  }
 },
 "nbformat": 4,
 "nbformat_minor": 2
}
